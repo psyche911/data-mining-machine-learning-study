{
 "cells": [
  {
   "cell_type": "code",
   "execution_count": 1,
   "id": "8235d348",
   "metadata": {},
   "outputs": [],
   "source": [
    "import random\n",
    "import numpy as np \n",
    "import matplotlib.pyplot as plt\n",
    "from numpy import *\n",
    "\n",
    "from sklearn import datasets, linear_model\n",
    "from sklearn.metrics import mean_squared_error, r2_score, accuracy_score\n",
    "from sklearn.model_selection import train_test_split"
   ]
  },
  {
   "cell_type": "code",
   "execution_count": 2,
   "id": "7e2dc6ea",
   "metadata": {},
   "outputs": [
    {
     "name": "stdout",
     "output_type": "stream",
     "text": [
      "Running scipy linear model...\n",
      "Coefficients: \n",
      " [-0.0387899  -0.28795596  0.21835844  0.05538228]\n",
      "RMSE: \n",
      " 0.15674062215673787\n",
      "Variance score: %.2f 0.8960711615949558\n",
      "Accuracy score:  0.8\n"
     ]
    }
   ],
   "source": [
    "def import_data():\n",
    "    data = np.genfromtxt(\"datasets/iris/iris_binaryenc.csv\", delimiter=\",\")\n",
    "    data_X = data[:, :4]\n",
    "    #data_X = data[:, [1]]    # one feature\n",
    "    #data_X = data[:, [1,2]]  # two features\n",
    "    data_y = data[:, -1]      # last column\n",
    "    \n",
    "    X_train, X_test, y_train, y_test = train_test_split(data_X, data_y, test_size=0.4, random_state=42)\n",
    "    \n",
    "    return X_train, X_test, y_train, y_test\n",
    "\n",
    "def linear_mod(X_train, X_test, y_train, y_test):\n",
    "    print(\"Running scipy linear model...\")\n",
    "    \n",
    "    lin_reg = linear_model.LinearRegression()\n",
    "    lin_reg.fit(X_train, y_train)\n",
    "    y_pred = lin_reg.predict(X_test)\n",
    "    \n",
    "    print(\"Coefficients: \\n\", lin_reg.coef_)\n",
    "    print(\"RMSE: \\n\", mean_squared_error(y_test, y_pred, squared=False))\n",
    "    print(\"Variance score: %.2f\", r2_score(y_test, y_pred))    \n",
    "     \n",
    "    #y_pred_int = y_pred.astype(int)    # convert to int\n",
    "    #y_pred_int = np.rint(y_pred)       # round off and convert to int\n",
    "    y_pred_int = np.heaviside(y_pred, 1)\n",
    "    \n",
    "    acc = accuracy_score(y_pred_int, y_test)\n",
    "    print(\"Accuracy score: \", acc)\n",
    "    \n",
    "    return acc\n",
    "\n",
    "def main():\n",
    "    X_train, X_test, y_train, y_test = import_data()\n",
    "    \n",
    "    acc = linear_mod(X_train, X_test, y_train, y_test)\n",
    "    \n",
    "if __name__ == '__main__':\n",
    "    main()"
   ]
  },
  {
   "cell_type": "code",
   "execution_count": null,
   "id": "32bbbba8",
   "metadata": {},
   "outputs": [],
   "source": []
  }
 ],
 "metadata": {
  "kernelspec": {
   "display_name": "Python 3",
   "language": "python",
   "name": "python3"
  },
  "language_info": {
   "codemirror_mode": {
    "name": "ipython",
    "version": 3
   },
   "file_extension": ".py",
   "mimetype": "text/x-python",
   "name": "python",
   "nbconvert_exporter": "python",
   "pygments_lexer": "ipython3",
   "version": "3.8.10"
  }
 },
 "nbformat": 4,
 "nbformat_minor": 5
}
