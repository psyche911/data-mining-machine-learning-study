{
 "cells": [
  {
   "cell_type": "code",
   "execution_count": 4,
   "id": "6141c48f",
   "metadata": {},
   "outputs": [
    {
     "name": "stdout",
     "output_type": "stream",
     "text": [
      "Data shape:  (768, 9) \n",
      "\n",
      "                          count        mean         std     min       25%  \\\n",
      "Pregnancies               768.0    3.845052    3.369578   0.000   1.00000   \n",
      "Glucose                   768.0  120.894531   31.972618   0.000  99.00000   \n",
      "BloodPressure             768.0   69.105469   19.355807   0.000  62.00000   \n",
      "SkinThickness             768.0   20.536458   15.952218   0.000   0.00000   \n",
      "Insulin                   768.0   79.799479  115.244002   0.000   0.00000   \n",
      "BMI                       768.0   31.992578    7.884160   0.000  27.30000   \n",
      "DiabetesPedigreeFunction  768.0    0.471876    0.331329   0.078   0.24375   \n",
      "Age                       768.0   33.240885   11.760232  21.000  24.00000   \n",
      "Outcome                   768.0    0.348958    0.476951   0.000   0.00000   \n",
      "\n",
      "                               50%        75%     max  \n",
      "Pregnancies                 3.0000    6.00000   17.00  \n",
      "Glucose                   117.0000  140.25000  199.00  \n",
      "BloodPressure              72.0000   80.00000  122.00  \n",
      "SkinThickness              23.0000   32.00000   99.00  \n",
      "Insulin                    30.5000  127.25000  846.00  \n",
      "BMI                        32.0000   36.60000   67.10  \n",
      "DiabetesPedigreeFunction    0.3725    0.62625    2.42  \n",
      "Age                        29.0000   41.00000   81.00  \n",
      "Outcome                     0.0000    1.00000    1.00   \n",
      "\n",
      "Train data shape:  (537, 8) \n",
      "\n",
      "Test data shape:  (231, 8) \n",
      "\n",
      "Confusion matrix for train data: \n",
      " [[358   0]\n",
      " [179   0]] \n",
      "\n",
      "Classification report for train data: \n",
      "               precision    recall  f1-score   support\n",
      "\n",
      "           0       0.67      1.00      0.80       358\n",
      "           1       0.00      0.00      0.00       179\n",
      "\n",
      "    accuracy                           0.67       537\n",
      "   macro avg       0.33      0.50      0.40       537\n",
      "weighted avg       0.44      0.67      0.53       537\n",
      " \n",
      "\n",
      "Confusion matrix for test data: \n",
      " [[142   0]\n",
      " [ 89   0]] \n",
      "\n",
      "Classification report for test data: \n",
      "               precision    recall  f1-score   support\n",
      "\n",
      "           0       0.61      1.00      0.76       142\n",
      "           1       0.00      0.00      0.00        89\n",
      "\n",
      "    accuracy                           0.61       231\n",
      "   macro avg       0.31      0.50      0.38       231\n",
      "weighted avg       0.38      0.61      0.47       231\n",
      "\n"
     ]
    }
   ],
   "source": [
    "# Import required libraries\n",
    "# source: https://www.pluralsight.com/guides/machine-learning-neural-networks-scikit-learn\n",
    "\n",
    "import pandas as pd\n",
    "import numpy as np \n",
    "import matplotlib.pyplot as plt\n",
    "import sklearn\n",
    "from sklearn.neural_network import MLPClassifier\n",
    "from sklearn.neural_network import MLPRegressor\n",
    "from sklearn import datasets\n",
    "# Import necessary modules\n",
    "from sklearn.model_selection import train_test_split\n",
    "from sklearn.metrics import mean_squared_error\n",
    "from math import sqrt\n",
    "from sklearn.metrics import r2_score\n",
    "from sklearn.metrics import classification_report,confusion_matrix\n",
    "import warnings\n",
    "import sklearn.exceptions\n",
    "warnings.filterwarnings(\"ignore\", category=sklearn.exceptions.UndefinedMetricWarning)\n",
    "\n",
    "# https://www.kaggle.com/uciml/pima-indians-diabetes-database/data?select=diabetes.csv\n",
    "df = pd.read_csv('datasets/diabetes.csv')\n",
    "print(\"Data shape: \", df.shape, \"\\n\")\n",
    "print(df.describe().transpose(), \"\\n\")\n",
    "# https://pandas.pydata.org/pandas-docs/stable/reference/api/pandas.DataFrame.transpose.html\n",
    "\n",
    "target_column = ['Outcome'] \n",
    "predictors = list(set(list(df.columns))-set(target_column))\n",
    "df[predictors] = df[predictors]/df[predictors].max()\n",
    "df.describe().transpose()\n",
    "#https://pandas.pydata.org/pandas-docs/stable/reference/api/pandas.DataFrame.describe.html\n",
    "\n",
    "X = df[predictors].values\n",
    "y = df[target_column].values\n",
    "y = y.reshape(df.shape[0],).reshape(df.shape[0],)   # convert (768, 1) dataframe to (768,) vector array\n",
    "\n",
    "#https://scikit-learn.org/stable/modules/generated/sklearn.model_selection.train_test_split.html\n",
    "X_train, X_test, y_train, y_test = train_test_split(X, y, test_size=0.30, random_state=40)\n",
    "print(\"Train data shape: \", X_train.shape, \"\\n\")\n",
    "print(\"Test data shape: \", X_test.shape, \"\\n\")\n",
    "\n",
    "# Supported activations are ['identity', 'logistic', 'relu', 'softmax', 'tanh']\n",
    "# https://scikit-learn.org/stable/modules/generated/sklearn.neural_network.MLPClassifier.html\n",
    "#mlp = MLPClassifier(hidden_layer_sizes=(8,8,8), activation='relu', solver='adam', max_iter=500)\n",
    "mlp = MLPClassifier(hidden_layer_sizes=(8,8,8), activation='logistic', solver='sgd', max_iter=2000)\n",
    "#mlp = MLPClassifier(hidden_layer_sizes=(8,8,8), activation='logistic', solver='adam', max_iter=2000)\n",
    "\n",
    "mlp.fit(X_train, y_train)\n",
    "\n",
    "predict_train = mlp.predict(X_train)\n",
    "predict_test = mlp.predict(X_test)\n",
    "\n",
    "#https://scikit-learn.org/stable/modules/generated/sklearn.metrics.confusion_matrix.html\n",
    "print(\"Confusion matrix for train data: \\n\", confusion_matrix(y_train, predict_train), \"\\n\")\n",
    "print(\"Classification report for train data: \\n\", classification_report(y_train, predict_train), \"\\n\")\n",
    "\n",
    "print(\"Confusion matrix for test data: \\n\", confusion_matrix(y_test, predict_test), \"\\n\")\n",
    "print(\"Classification report for test data: \\n\", classification_report(y_test, predict_test))"
   ]
  },
  {
   "cell_type": "code",
   "execution_count": 2,
   "id": "004fc74f",
   "metadata": {},
   "outputs": [
    {
     "data": {
      "text/plain": [
       "Index(['Pregnancies', 'Glucose', 'BloodPressure', 'SkinThickness', 'Insulin',\n",
       "       'BMI', 'DiabetesPedigreeFunction', 'Age', 'Outcome'],\n",
       "      dtype='object')"
      ]
     },
     "execution_count": 2,
     "metadata": {},
     "output_type": "execute_result"
    }
   ],
   "source": [
    "df.columns"
   ]
  },
  {
   "cell_type": "code",
   "execution_count": 2,
   "id": "f175c0c4",
   "metadata": {},
   "outputs": [
    {
     "data": {
      "text/plain": [
       "['Pregnancies',\n",
       " 'Glucose',\n",
       " 'BloodPressure',\n",
       " 'SkinThickness',\n",
       " 'Insulin',\n",
       " 'BMI',\n",
       " 'DiabetesPedigreeFunction',\n",
       " 'Age',\n",
       " 'Outcome']"
      ]
     },
     "execution_count": 2,
     "metadata": {},
     "output_type": "execute_result"
    }
   ],
   "source": [
    "list(df.columns)"
   ]
  },
  {
   "cell_type": "code",
   "execution_count": 5,
   "id": "f9482d57",
   "metadata": {},
   "outputs": [
    {
     "data": {
      "text/plain": [
       "{'Age',\n",
       " 'BMI',\n",
       " 'BloodPressure',\n",
       " 'DiabetesPedigreeFunction',\n",
       " 'Glucose',\n",
       " 'Insulin',\n",
       " 'Outcome',\n",
       " 'Pregnancies',\n",
       " 'SkinThickness'}"
      ]
     },
     "execution_count": 5,
     "metadata": {},
     "output_type": "execute_result"
    }
   ],
   "source": [
    "set(list(df.columns))"
   ]
  },
  {
   "cell_type": "code",
   "execution_count": 6,
   "id": "8e0f8d45",
   "metadata": {},
   "outputs": [
    {
     "data": {
      "text/plain": [
       "{'Outcome'}"
      ]
     },
     "execution_count": 6,
     "metadata": {},
     "output_type": "execute_result"
    }
   ],
   "source": [
    "set(target_column)"
   ]
  },
  {
   "cell_type": "code",
   "execution_count": 7,
   "id": "146becef",
   "metadata": {},
   "outputs": [
    {
     "data": {
      "text/plain": [
       "{'Age',\n",
       " 'BMI',\n",
       " 'BloodPressure',\n",
       " 'DiabetesPedigreeFunction',\n",
       " 'Glucose',\n",
       " 'Insulin',\n",
       " 'Pregnancies',\n",
       " 'SkinThickness'}"
      ]
     },
     "execution_count": 7,
     "metadata": {},
     "output_type": "execute_result"
    }
   ],
   "source": [
    "set(list(df.columns))-set(target_column)"
   ]
  },
  {
   "cell_type": "code",
   "execution_count": 8,
   "id": "faaf63bb",
   "metadata": {},
   "outputs": [
    {
     "data": {
      "text/plain": [
       "['DiabetesPedigreeFunction',\n",
       " 'Insulin',\n",
       " 'Pregnancies',\n",
       " 'BMI',\n",
       " 'BloodPressure',\n",
       " 'Age',\n",
       " 'SkinThickness',\n",
       " 'Glucose']"
      ]
     },
     "execution_count": 8,
     "metadata": {},
     "output_type": "execute_result"
    }
   ],
   "source": [
    "list(set(list(df.columns))-set(target_column))"
   ]
  },
  {
   "cell_type": "code",
   "execution_count": 3,
   "id": "57cd09b8",
   "metadata": {},
   "outputs": [
    {
     "data": {
      "text/html": [
       "<div>\n",
       "<style scoped>\n",
       "    .dataframe tbody tr th:only-of-type {\n",
       "        vertical-align: middle;\n",
       "    }\n",
       "\n",
       "    .dataframe tbody tr th {\n",
       "        vertical-align: top;\n",
       "    }\n",
       "\n",
       "    .dataframe thead th {\n",
       "        text-align: right;\n",
       "    }\n",
       "</style>\n",
       "<table border=\"1\" class=\"dataframe\">\n",
       "  <thead>\n",
       "    <tr style=\"text-align: right;\">\n",
       "      <th></th>\n",
       "      <th>count</th>\n",
       "      <th>mean</th>\n",
       "      <th>std</th>\n",
       "      <th>min</th>\n",
       "      <th>25%</th>\n",
       "      <th>50%</th>\n",
       "      <th>75%</th>\n",
       "      <th>max</th>\n",
       "    </tr>\n",
       "  </thead>\n",
       "  <tbody>\n",
       "    <tr>\n",
       "      <th>Pregnancies</th>\n",
       "      <td>768.0</td>\n",
       "      <td>0.226180</td>\n",
       "      <td>0.198210</td>\n",
       "      <td>0.000000</td>\n",
       "      <td>0.058824</td>\n",
       "      <td>0.176471</td>\n",
       "      <td>0.352941</td>\n",
       "      <td>1.0</td>\n",
       "    </tr>\n",
       "    <tr>\n",
       "      <th>Glucose</th>\n",
       "      <td>768.0</td>\n",
       "      <td>0.607510</td>\n",
       "      <td>0.160666</td>\n",
       "      <td>0.000000</td>\n",
       "      <td>0.497487</td>\n",
       "      <td>0.587940</td>\n",
       "      <td>0.704774</td>\n",
       "      <td>1.0</td>\n",
       "    </tr>\n",
       "    <tr>\n",
       "      <th>BloodPressure</th>\n",
       "      <td>768.0</td>\n",
       "      <td>0.566438</td>\n",
       "      <td>0.158654</td>\n",
       "      <td>0.000000</td>\n",
       "      <td>0.508197</td>\n",
       "      <td>0.590164</td>\n",
       "      <td>0.655738</td>\n",
       "      <td>1.0</td>\n",
       "    </tr>\n",
       "    <tr>\n",
       "      <th>SkinThickness</th>\n",
       "      <td>768.0</td>\n",
       "      <td>0.207439</td>\n",
       "      <td>0.161134</td>\n",
       "      <td>0.000000</td>\n",
       "      <td>0.000000</td>\n",
       "      <td>0.232323</td>\n",
       "      <td>0.323232</td>\n",
       "      <td>1.0</td>\n",
       "    </tr>\n",
       "    <tr>\n",
       "      <th>Insulin</th>\n",
       "      <td>768.0</td>\n",
       "      <td>0.094326</td>\n",
       "      <td>0.136222</td>\n",
       "      <td>0.000000</td>\n",
       "      <td>0.000000</td>\n",
       "      <td>0.036052</td>\n",
       "      <td>0.150414</td>\n",
       "      <td>1.0</td>\n",
       "    </tr>\n",
       "    <tr>\n",
       "      <th>BMI</th>\n",
       "      <td>768.0</td>\n",
       "      <td>0.476790</td>\n",
       "      <td>0.117499</td>\n",
       "      <td>0.000000</td>\n",
       "      <td>0.406855</td>\n",
       "      <td>0.476900</td>\n",
       "      <td>0.545455</td>\n",
       "      <td>1.0</td>\n",
       "    </tr>\n",
       "    <tr>\n",
       "      <th>DiabetesPedigreeFunction</th>\n",
       "      <td>768.0</td>\n",
       "      <td>0.194990</td>\n",
       "      <td>0.136913</td>\n",
       "      <td>0.032231</td>\n",
       "      <td>0.100723</td>\n",
       "      <td>0.153926</td>\n",
       "      <td>0.258781</td>\n",
       "      <td>1.0</td>\n",
       "    </tr>\n",
       "    <tr>\n",
       "      <th>Age</th>\n",
       "      <td>768.0</td>\n",
       "      <td>0.410381</td>\n",
       "      <td>0.145188</td>\n",
       "      <td>0.259259</td>\n",
       "      <td>0.296296</td>\n",
       "      <td>0.358025</td>\n",
       "      <td>0.506173</td>\n",
       "      <td>1.0</td>\n",
       "    </tr>\n",
       "    <tr>\n",
       "      <th>Outcome</th>\n",
       "      <td>768.0</td>\n",
       "      <td>0.348958</td>\n",
       "      <td>0.476951</td>\n",
       "      <td>0.000000</td>\n",
       "      <td>0.000000</td>\n",
       "      <td>0.000000</td>\n",
       "      <td>1.000000</td>\n",
       "      <td>1.0</td>\n",
       "    </tr>\n",
       "  </tbody>\n",
       "</table>\n",
       "</div>"
      ],
      "text/plain": [
       "                          count      mean       std       min       25%  \\\n",
       "Pregnancies               768.0  0.226180  0.198210  0.000000  0.058824   \n",
       "Glucose                   768.0  0.607510  0.160666  0.000000  0.497487   \n",
       "BloodPressure             768.0  0.566438  0.158654  0.000000  0.508197   \n",
       "SkinThickness             768.0  0.207439  0.161134  0.000000  0.000000   \n",
       "Insulin                   768.0  0.094326  0.136222  0.000000  0.000000   \n",
       "BMI                       768.0  0.476790  0.117499  0.000000  0.406855   \n",
       "DiabetesPedigreeFunction  768.0  0.194990  0.136913  0.032231  0.100723   \n",
       "Age                       768.0  0.410381  0.145188  0.259259  0.296296   \n",
       "Outcome                   768.0  0.348958  0.476951  0.000000  0.000000   \n",
       "\n",
       "                               50%       75%  max  \n",
       "Pregnancies               0.176471  0.352941  1.0  \n",
       "Glucose                   0.587940  0.704774  1.0  \n",
       "BloodPressure             0.590164  0.655738  1.0  \n",
       "SkinThickness             0.232323  0.323232  1.0  \n",
       "Insulin                   0.036052  0.150414  1.0  \n",
       "BMI                       0.476900  0.545455  1.0  \n",
       "DiabetesPedigreeFunction  0.153926  0.258781  1.0  \n",
       "Age                       0.358025  0.506173  1.0  \n",
       "Outcome                   0.000000  1.000000  1.0  "
      ]
     },
     "execution_count": 3,
     "metadata": {},
     "output_type": "execute_result"
    }
   ],
   "source": [
    "df.describe().transpose()"
   ]
  },
  {
   "cell_type": "code",
   "execution_count": null,
   "id": "b9db3569",
   "metadata": {},
   "outputs": [],
   "source": []
  }
 ],
 "metadata": {
  "kernelspec": {
   "display_name": "Python 3 (ipykernel)",
   "language": "python",
   "name": "python3"
  },
  "language_info": {
   "codemirror_mode": {
    "name": "ipython",
    "version": 3
   },
   "file_extension": ".py",
   "mimetype": "text/x-python",
   "name": "python",
   "nbconvert_exporter": "python",
   "pygments_lexer": "ipython3",
   "version": "3.8.8"
  }
 },
 "nbformat": 4,
 "nbformat_minor": 5
}
