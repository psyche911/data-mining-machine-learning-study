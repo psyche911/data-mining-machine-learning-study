{
 "cells": [
  {
   "cell_type": "code",
   "execution_count": 7,
   "id": "9aaadd17",
   "metadata": {},
   "outputs": [
    {
     "name": "stdout",
     "output_type": "stream",
     "text": [
      "train_data snippet: \n",
      " [[ 0.04349225 -0.76289811  0.17567049  0.10538558]\n",
      " [-1.69619757 -0.11362312 -1.30967351 -1.22580069]\n",
      " [-1.82046113 -0.11362312 -1.42393074 -1.35891931]] \n",
      "\n",
      "acc of prediction by train dataset:  0.9833333333333333 \n",
      "\n",
      "acc of prediction by test dataset:  0.9666666666666667 \n",
      "\n",
      "cm train: \n",
      " [[44  0  0]\n",
      " [ 0 42  1]\n",
      " [ 0  1 32]]\n",
      "\n",
      " cm test: \n",
      " [[44  0  0]\n",
      " [ 0 42  1]\n",
      " [ 0  1 32]]\n",
      "\n",
      "               precision    recall  f1-score   support\n",
      "\n",
      "           0       1.00      1.00      1.00         6\n",
      "           1       0.86      1.00      0.92         6\n",
      "           2       1.00      0.94      0.97        18\n",
      "\n",
      "    accuracy                           0.97        30\n",
      "   macro avg       0.95      0.98      0.96        30\n",
      "weighted avg       0.97      0.97      0.97        30\n",
      "\n"
     ]
    }
   ],
   "source": [
    "from sklearn.datasets import load_iris\n",
    "iris = load_iris()\n",
    "\n",
    "# splitting into train and test datasets\n",
    "from sklearn.model_selection import train_test_split\n",
    "datasets = train_test_split(iris.data, iris.target, test_size=0.2)\n",
    "\n",
    "train_data, test_data, train_labels, test_labels = datasets\n",
    "\n",
    "# scaling the data\n",
    "from sklearn.preprocessing import StandardScaler\n",
    "scaler = StandardScaler()\n",
    "\n",
    "# fit the training data\n",
    "scaler.fit(train_data)\n",
    "\n",
    "# scaling the train data\n",
    "train_data = scaler.transform(train_data)\n",
    "test_data = scaler.transform(test_data)\n",
    "print(\"train_data snippet: \\n\", train_data[:3], \"\\n\")\n",
    "\n",
    "# train the Model\n",
    "from sklearn.neural_network import MLPClassifier\n",
    "\n",
    "# creating an classifier from the model:\n",
    "mlp = MLPClassifier(hidden_layer_sizes=(10, 5), max_iter=2000)\n",
    "\n",
    "# fit the training data to our model\n",
    "mlp.fit(train_data, train_labels)\n",
    "\n",
    "from sklearn.metrics import accuracy_score\n",
    "\n",
    "predictions_train = mlp.predict(train_data)\n",
    "print(\"acc of prediction by train dataset: \", accuracy_score(predictions_train, train_labels), \"\\n\")\n",
    "\n",
    "predictions_test = mlp.predict(test_data)\n",
    "print(\"acc of prediction by test dataset: \", accuracy_score(predictions_test, test_labels), \"\\n\")\n",
    "\n",
    "from sklearn.metrics import confusion_matrix\n",
    "\n",
    "cm_train = confusion_matrix(predictions_train, train_labels)\n",
    "cm_test = confusion_matrix(predictions_test, test_labels)\n",
    "print('cm train: \\n', cm_train)\n",
    "print('\\n cm test: \\n', cm_train)\n",
    "\n",
    "from sklearn.metrics import classification_report\n",
    "print(\"\\n\", classification_report(predictions_test, test_labels))"
   ]
  },
  {
   "cell_type": "code",
   "execution_count": null,
   "id": "b6c00352",
   "metadata": {
    "scrolled": true
   },
   "outputs": [],
   "source": []
  },
  {
   "cell_type": "code",
   "execution_count": null,
   "id": "8304fc93",
   "metadata": {},
   "outputs": [],
   "source": []
  },
  {
   "cell_type": "code",
   "execution_count": null,
   "id": "c565a336",
   "metadata": {},
   "outputs": [],
   "source": []
  }
 ],
 "metadata": {
  "kernelspec": {
   "display_name": "Python 3 (ipykernel)",
   "language": "python",
   "name": "python3"
  },
  "language_info": {
   "codemirror_mode": {
    "name": "ipython",
    "version": 3
   },
   "file_extension": ".py",
   "mimetype": "text/x-python",
   "name": "python",
   "nbconvert_exporter": "python",
   "pygments_lexer": "ipython3",
   "version": "3.8.8"
  }
 },
 "nbformat": 4,
 "nbformat_minor": 5
}
