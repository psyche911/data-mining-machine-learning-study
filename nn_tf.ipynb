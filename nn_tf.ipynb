{
 "cells": [
  {
   "cell_type": "code",
   "execution_count": null,
   "metadata": {
    "scrolled": true
   },
   "outputs": [],
   "source": [
    "pip install Scrapy"
   ]
  },
  {
   "cell_type": "code",
   "execution_count": 1,
   "metadata": {},
   "outputs": [],
   "source": [
    "import tensorflow as tf\n",
    "from tensorflow import keras"
   ]
  },
  {
   "cell_type": "code",
   "execution_count": 2,
   "metadata": {},
   "outputs": [
    {
     "data": {
      "text/plain": [
       "'2.6.0'"
      ]
     },
     "execution_count": 2,
     "metadata": {},
     "output_type": "execute_result"
    }
   ],
   "source": [
    "tf.__version__"
   ]
  },
  {
   "cell_type": "code",
   "execution_count": 3,
   "metadata": {},
   "outputs": [
    {
     "data": {
      "text/plain": [
       "'2.6.0'"
      ]
     },
     "execution_count": 3,
     "metadata": {},
     "output_type": "execute_result"
    }
   ],
   "source": [
    "keras.__version__"
   ]
  },
  {
   "cell_type": "code",
   "execution_count": 4,
   "metadata": {},
   "outputs": [],
   "source": [
    "fashion_mnist = keras.datasets.fashion_mnist\n",
    "(X_train_full, y_train_full), (X_test, y_test) = fashion_mnist.load_data()"
   ]
  },
  {
   "cell_type": "code",
   "execution_count": 5,
   "metadata": {},
   "outputs": [
    {
     "data": {
      "text/plain": [
       "(60000, 28, 28)"
      ]
     },
     "execution_count": 5,
     "metadata": {},
     "output_type": "execute_result"
    }
   ],
   "source": [
    "X_train_full.shape"
   ]
  },
  {
   "cell_type": "code",
   "execution_count": 6,
   "metadata": {},
   "outputs": [
    {
     "data": {
      "text/plain": [
       "dtype('uint8')"
      ]
     },
     "execution_count": 6,
     "metadata": {},
     "output_type": "execute_result"
    }
   ],
   "source": [
    "X_train_full.dtype"
   ]
  },
  {
   "cell_type": "code",
   "execution_count": 7,
   "metadata": {},
   "outputs": [],
   "source": [
    "X_valid, X_train = X_train_full[:5000]/255.0, X_train_full[5000:]/255.0\n",
    "y_valid, y_train = y_train_full[:5000], y_train_full[5000:]"
   ]
  },
  {
   "cell_type": "code",
   "execution_count": 8,
   "metadata": {},
   "outputs": [],
   "source": [
    "class_names = [\"T-shirt/top\", \"Trouser\", \"Pullover\", \"Dress\", \"Coat\", \"Sandal\", \"Shirt\", \"Sneaker\", \"Bag\", \"Ankle boot\"]"
   ]
  },
  {
   "cell_type": "code",
   "execution_count": 9,
   "metadata": {},
   "outputs": [
    {
     "data": {
      "text/plain": [
       "'Coat'"
      ]
     },
     "execution_count": 9,
     "metadata": {},
     "output_type": "execute_result"
    }
   ],
   "source": [
    "class_names[y_train[0]]"
   ]
  },
  {
   "cell_type": "markdown",
   "metadata": {},
   "source": [
    "### Building an Image Classifier Using the Sequential API\n",
    "- Create a Sequential model, the simplest kind of Keras model, for neural networks that are just composed of a single stack of layers, connected sequentially - the sequential API"
   ]
  },
  {
   "cell_type": "code",
   "execution_count": 10,
   "metadata": {},
   "outputs": [],
   "source": [
    "import tensorflow as tf\n",
    "from tensorflow import keras\n",
    "\n",
    "model = keras.models.Sequential()\n",
    "\n",
    "'''\n",
    "Build the first layer and add it to the model\n",
    "a Flatten layer whose role is simply to convert each input image into a 1D array\n",
    "Need to specify the input_shape, not the batch size, only the shape of the instances\n",
    "'''\n",
    "model.add(keras.layers.Flatten(input_shape=[28,28]))\n",
    "\n",
    "'''\n",
    "Add a Dense hidden layer with 300 neurons, using the ReLU activation function\n",
    "Each Dense layer manages its own weight matrix, containing all the connection weights between the neurons and inputs\n",
    "also manages a vector of bias terms (one per neuron)\n",
    "'''\n",
    "model.add(keras.layers.Dense(300, activation=\"relu\"))\n",
    "\n",
    "'''\n",
    "Add a second Dense hidden layer with 100 neurons, also using the ReLU activation function\n",
    "'''\n",
    "model.add(keras.layers.Dense(100, activation=\"relu\"))\n",
    "\n",
    "'''\n",
    "Add a Dense output layer with 10 neurons (one per class),\n",
    "using thesoftmax activation function (because the classes are exclusive)\n",
    "'''\n",
    "model.add(keras.layers.Dense(10, activation=\"softmax\"))"
   ]
  },
  {
   "cell_type": "code",
   "execution_count": 11,
   "metadata": {},
   "outputs": [],
   "source": [
    "# Instead of adding the layers one by one as we just did, can pass a list of layerswhen creating the Sequential model\n",
    "import tensorflow as tf\n",
    "from tensorflow import keras\n",
    "\n",
    "model = keras.models.Sequential([\n",
    "    keras.layers.Flatten(input_shape=[28,28]),\n",
    "    keras.layers.Dense(300, activation=\"relu\"),\n",
    "    keras.layers.Dense(100, activation='relu'),\n",
    "    keras.layers.Dense(10, activation=\"softmax\")\n",
    "])"
   ]
  },
  {
   "cell_type": "code",
   "execution_count": 12,
   "metadata": {},
   "outputs": [
    {
     "name": "stdout",
     "output_type": "stream",
     "text": [
      "Model: \"sequential_1\"\n",
      "_________________________________________________________________\n",
      "Layer (type)                 Output Shape              Param #   \n",
      "=================================================================\n",
      "flatten_1 (Flatten)          (None, 784)               0         \n",
      "_________________________________________________________________\n",
      "dense_3 (Dense)              (None, 300)               235500    \n",
      "_________________________________________________________________\n",
      "dense_4 (Dense)              (None, 100)               30100     \n",
      "_________________________________________________________________\n",
      "dense_5 (Dense)              (None, 10)                1010      \n",
      "=================================================================\n",
      "Total params: 266,610\n",
      "Trainable params: 266,610\n",
      "Non-trainable params: 0\n",
      "_________________________________________________________________\n"
     ]
    }
   ],
   "source": [
    "model.summary()"
   ]
  },
  {
   "cell_type": "markdown",
   "metadata": {},
   "source": [
    "- the 1st hidden layer has 784 × 300 connection weights, plus 300 bias terms, which adds up to 235,500 parameters"
   ]
  },
  {
   "cell_type": "code",
   "execution_count": 13,
   "metadata": {},
   "outputs": [
    {
     "data": {
      "text/plain": [
       "[<keras.layers.core.Flatten at 0x29cda861160>,\n",
       " <keras.layers.core.Dense at 0x29cda8617f0>,\n",
       " <keras.layers.core.Dense at 0x29cda861910>,\n",
       " <keras.layers.core.Dense at 0x29cda861e20>]"
      ]
     },
     "execution_count": 13,
     "metadata": {},
     "output_type": "execute_result"
    }
   ],
   "source": [
    "# get a model’s list of layers\n",
    "model.layers"
   ]
  },
  {
   "cell_type": "code",
   "execution_count": 14,
   "metadata": {},
   "outputs": [
    {
     "data": {
      "text/plain": [
       "'dense_3'"
      ]
     },
     "execution_count": 14,
     "metadata": {},
     "output_type": "execute_result"
    }
   ],
   "source": [
    "# fetch a layer by index\n",
    "model.layers[1].name"
   ]
  },
  {
   "cell_type": "code",
   "execution_count": 15,
   "metadata": {},
   "outputs": [
    {
     "data": {
      "text/plain": [
       "'dense_5'"
      ]
     },
     "execution_count": 15,
     "metadata": {},
     "output_type": "execute_result"
    }
   ],
   "source": [
    "# fetch a layer by name\n",
    "model.get_layer('dense_5').name"
   ]
  },
  {
   "cell_type": "code",
   "execution_count": 16,
   "metadata": {},
   "outputs": [],
   "source": [
    "# specify the loss function and the optimizer after a model is created\n",
    "model.compile(loss=\"sparse_categorical_crossentropy\",  # sparse labels and the classes are exclusive\n",
    "              optimizer=\"sgd\",   # train the model using simple Stochastic Gradient Descent\n",
    "              metrics=[\"accuracy\"])   # measure its \"accuracy\" during training and evaluation for a classifier"
   ]
  },
  {
   "cell_type": "code",
   "execution_count": 17,
   "metadata": {},
   "outputs": [
    {
     "name": "stdout",
     "output_type": "stream",
     "text": [
      "Epoch 1/30\n",
      "1719/1719 [==============================] - 3s 2ms/step - loss: 0.7208 - accuracy: 0.7619 - val_loss: 0.5203 - val_accuracy: 0.8206\n",
      "Epoch 2/30\n",
      "1719/1719 [==============================] - 3s 2ms/step - loss: 0.4880 - accuracy: 0.8299 - val_loss: 0.4420 - val_accuracy: 0.8500\n",
      "Epoch 3/30\n",
      "1719/1719 [==============================] - 3s 2ms/step - loss: 0.4451 - accuracy: 0.8440 - val_loss: 0.4071 - val_accuracy: 0.8618\n",
      "Epoch 4/30\n",
      "1719/1719 [==============================] - 3s 2ms/step - loss: 0.4175 - accuracy: 0.8534 - val_loss: 0.3937 - val_accuracy: 0.8676\n",
      "Epoch 5/30\n",
      "1719/1719 [==============================] - 3s 2ms/step - loss: 0.3983 - accuracy: 0.8615 - val_loss: 0.3828 - val_accuracy: 0.8662\n",
      "Epoch 6/30\n",
      "1719/1719 [==============================] - 3s 2ms/step - loss: 0.3825 - accuracy: 0.8655 - val_loss: 0.3778 - val_accuracy: 0.8714\n",
      "Epoch 7/30\n",
      "1719/1719 [==============================] - 3s 2ms/step - loss: 0.3700 - accuracy: 0.8689 - val_loss: 0.3665 - val_accuracy: 0.8704\n",
      "Epoch 8/30\n",
      "1719/1719 [==============================] - 3s 2ms/step - loss: 0.3581 - accuracy: 0.8747 - val_loss: 0.3707 - val_accuracy: 0.8678\n",
      "Epoch 9/30\n",
      "1719/1719 [==============================] - 3s 2ms/step - loss: 0.3476 - accuracy: 0.8771 - val_loss: 0.3634 - val_accuracy: 0.8750\n",
      "Epoch 10/30\n",
      "1719/1719 [==============================] - 3s 2ms/step - loss: 0.3380 - accuracy: 0.8805 - val_loss: 0.3438 - val_accuracy: 0.8800\n",
      "Epoch 11/30\n",
      "1719/1719 [==============================] - 3s 2ms/step - loss: 0.3305 - accuracy: 0.8822 - val_loss: 0.3408 - val_accuracy: 0.8812\n",
      "Epoch 12/30\n",
      "1719/1719 [==============================] - 3s 2ms/step - loss: 0.3218 - accuracy: 0.8849 - val_loss: 0.3351 - val_accuracy: 0.8820\n",
      "Epoch 13/30\n",
      "1719/1719 [==============================] - 3s 2ms/step - loss: 0.3141 - accuracy: 0.8880 - val_loss: 0.3350 - val_accuracy: 0.8808\n",
      "Epoch 14/30\n",
      "1719/1719 [==============================] - 3s 2ms/step - loss: 0.3066 - accuracy: 0.8900 - val_loss: 0.3241 - val_accuracy: 0.8862\n",
      "Epoch 15/30\n",
      "1719/1719 [==============================] - 3s 2ms/step - loss: 0.3014 - accuracy: 0.8913 - val_loss: 0.3302 - val_accuracy: 0.8846\n",
      "Epoch 16/30\n",
      "1719/1719 [==============================] - 3s 2ms/step - loss: 0.2938 - accuracy: 0.8942 - val_loss: 0.3233 - val_accuracy: 0.8856\n",
      "Epoch 17/30\n",
      "1719/1719 [==============================] - 3s 2ms/step - loss: 0.2880 - accuracy: 0.8967 - val_loss: 0.3131 - val_accuracy: 0.8886\n",
      "Epoch 18/30\n",
      "1719/1719 [==============================] - 3s 2ms/step - loss: 0.2827 - accuracy: 0.8977 - val_loss: 0.3225 - val_accuracy: 0.8840\n",
      "Epoch 19/30\n",
      "1719/1719 [==============================] - 3s 2ms/step - loss: 0.2772 - accuracy: 0.8996 - val_loss: 0.3179 - val_accuracy: 0.8876\n",
      "Epoch 20/30\n",
      "1719/1719 [==============================] - 3s 2ms/step - loss: 0.2714 - accuracy: 0.9024 - val_loss: 0.3245 - val_accuracy: 0.8866\n",
      "Epoch 21/30\n",
      "1719/1719 [==============================] - 3s 2ms/step - loss: 0.2666 - accuracy: 0.9038 - val_loss: 0.3087 - val_accuracy: 0.8874\n",
      "Epoch 22/30\n",
      "1719/1719 [==============================] - 3s 2ms/step - loss: 0.2626 - accuracy: 0.9056 - val_loss: 0.3073 - val_accuracy: 0.8908\n",
      "Epoch 23/30\n",
      "1719/1719 [==============================] - 3s 2ms/step - loss: 0.2578 - accuracy: 0.9067 - val_loss: 0.3182 - val_accuracy: 0.8870\n",
      "Epoch 24/30\n",
      "1719/1719 [==============================] - 3s 2ms/step - loss: 0.2541 - accuracy: 0.9079 - val_loss: 0.3086 - val_accuracy: 0.8910\n",
      "Epoch 25/30\n",
      "1719/1719 [==============================] - 3s 2ms/step - loss: 0.2489 - accuracy: 0.9105 - val_loss: 0.3079 - val_accuracy: 0.8908\n",
      "Epoch 26/30\n",
      "1719/1719 [==============================] - 3s 2ms/step - loss: 0.2446 - accuracy: 0.9120 - val_loss: 0.3059 - val_accuracy: 0.8918\n",
      "Epoch 27/30\n",
      "1719/1719 [==============================] - 3s 2ms/step - loss: 0.2414 - accuracy: 0.9133 - val_loss: 0.2993 - val_accuracy: 0.8934\n",
      "Epoch 28/30\n",
      "1719/1719 [==============================] - 3s 2ms/step - loss: 0.2371 - accuracy: 0.9149 - val_loss: 0.2969 - val_accuracy: 0.8950\n",
      "Epoch 29/30\n",
      "1719/1719 [==============================] - 3s 2ms/step - loss: 0.2323 - accuracy: 0.9164 - val_loss: 0.3113 - val_accuracy: 0.8914\n",
      "Epoch 30/30\n",
      "1719/1719 [==============================] - 3s 2ms/step - loss: 0.2297 - accuracy: 0.9174 - val_loss: 0.2966 - val_accuracy: 0.8944\n"
     ]
    }
   ],
   "source": [
    "# Training and Evaluating the Model\n",
    "history = model.fit(X_train, y_train, epochs=30, validation_data=(X_valid, y_valid))"
   ]
  },
  {
   "cell_type": "code",
   "execution_count": 18,
   "metadata": {},
   "outputs": [
    {
     "data": {
      "text/plain": [
       "{'verbose': 1, 'epochs': 30, 'steps': 1719}"
      ]
     },
     "execution_count": 18,
     "metadata": {},
     "output_type": "execute_result"
    }
   ],
   "source": [
    "history.params"
   ]
  },
  {
   "cell_type": "code",
   "execution_count": 19,
   "metadata": {},
   "outputs": [
    {
     "data": {
      "text/plain": [
       "{'loss': [0.7208027243614197,\n",
       "  0.4879724681377411,\n",
       "  0.44507306814193726,\n",
       "  0.4174853563308716,\n",
       "  0.39830321073532104,\n",
       "  0.38248321413993835,\n",
       "  0.36996814608573914,\n",
       "  0.35808441042900085,\n",
       "  0.3476102650165558,\n",
       "  0.33798110485076904,\n",
       "  0.33054620027542114,\n",
       "  0.3217843472957611,\n",
       "  0.3140575587749481,\n",
       "  0.30660536885261536,\n",
       "  0.3013598620891571,\n",
       "  0.2937939465045929,\n",
       "  0.28801536560058594,\n",
       "  0.282719224691391,\n",
       "  0.27716055512428284,\n",
       "  0.2713947594165802,\n",
       "  0.2666458189487457,\n",
       "  0.26262661814689636,\n",
       "  0.25780051946640015,\n",
       "  0.2541140019893646,\n",
       "  0.24885860085487366,\n",
       "  0.24458958208560944,\n",
       "  0.2414325773715973,\n",
       "  0.23712719976902008,\n",
       "  0.23234809935092926,\n",
       "  0.22973768413066864],\n",
       " 'accuracy': [0.7618908882141113,\n",
       "  0.829872727394104,\n",
       "  0.843999981880188,\n",
       "  0.8533636331558228,\n",
       "  0.8614545464515686,\n",
       "  0.8654727339744568,\n",
       "  0.8688908815383911,\n",
       "  0.8747272491455078,\n",
       "  0.8771091103553772,\n",
       "  0.880472719669342,\n",
       "  0.8822000026702881,\n",
       "  0.8849272727966309,\n",
       "  0.8880363702774048,\n",
       "  0.8900363445281982,\n",
       "  0.8913090825080872,\n",
       "  0.8941818475723267,\n",
       "  0.8966545462608337,\n",
       "  0.8976908922195435,\n",
       "  0.899581789970398,\n",
       "  0.902436375617981,\n",
       "  0.9038363695144653,\n",
       "  0.9056000113487244,\n",
       "  0.9067090749740601,\n",
       "  0.9078909158706665,\n",
       "  0.9105454683303833,\n",
       "  0.9120000004768372,\n",
       "  0.9133090972900391,\n",
       "  0.9149272441864014,\n",
       "  0.916418194770813,\n",
       "  0.9174000024795532],\n",
       " 'val_loss': [0.520309567451477,\n",
       "  0.44198477268218994,\n",
       "  0.4070635139942169,\n",
       "  0.39369750022888184,\n",
       "  0.38281580805778503,\n",
       "  0.37780827283859253,\n",
       "  0.36650654673576355,\n",
       "  0.3706737458705902,\n",
       "  0.3633711040019989,\n",
       "  0.343763142824173,\n",
       "  0.3408338725566864,\n",
       "  0.3351357877254486,\n",
       "  0.3349640965461731,\n",
       "  0.32414159178733826,\n",
       "  0.3301885426044464,\n",
       "  0.3233222961425781,\n",
       "  0.3131064772605896,\n",
       "  0.3224687874317169,\n",
       "  0.31787946820259094,\n",
       "  0.3244803249835968,\n",
       "  0.3086966872215271,\n",
       "  0.30733099579811096,\n",
       "  0.3182191252708435,\n",
       "  0.3085634410381317,\n",
       "  0.30793139338493347,\n",
       "  0.3059241771697998,\n",
       "  0.2992926239967346,\n",
       "  0.2969170808792114,\n",
       "  0.31129106879234314,\n",
       "  0.2966236472129822],\n",
       " 'val_accuracy': [0.8205999732017517,\n",
       "  0.8500000238418579,\n",
       "  0.8618000149726868,\n",
       "  0.8676000237464905,\n",
       "  0.8661999702453613,\n",
       "  0.871399998664856,\n",
       "  0.8704000115394592,\n",
       "  0.8677999973297119,\n",
       "  0.875,\n",
       "  0.8799999952316284,\n",
       "  0.8812000155448914,\n",
       "  0.8820000290870667,\n",
       "  0.8808000087738037,\n",
       "  0.8862000107765198,\n",
       "  0.8845999836921692,\n",
       "  0.8855999708175659,\n",
       "  0.8885999917984009,\n",
       "  0.8840000033378601,\n",
       "  0.8876000046730042,\n",
       "  0.8866000175476074,\n",
       "  0.8873999714851379,\n",
       "  0.8907999992370605,\n",
       "  0.8870000243186951,\n",
       "  0.890999972820282,\n",
       "  0.8907999992370605,\n",
       "  0.8917999863624573,\n",
       "  0.8934000134468079,\n",
       "  0.8949999809265137,\n",
       "  0.8913999795913696,\n",
       "  0.8944000005722046]}"
      ]
     },
     "execution_count": 19,
     "metadata": {},
     "output_type": "execute_result"
    }
   ],
   "source": [
    "history.history"
   ]
  },
  {
   "cell_type": "code",
   "execution_count": 20,
   "metadata": {},
   "outputs": [
    {
     "data": {
      "application/javascript": [
       "\n",
       "        if (window._pyforest_update_imports_cell) { window._pyforest_update_imports_cell('import matplotlib.pyplot as plt'); }\n",
       "    "
      ],
      "text/plain": [
       "<IPython.core.display.Javascript object>"
      ]
     },
     "metadata": {},
     "output_type": "display_data"
    },
    {
     "data": {
      "application/javascript": [
       "\n",
       "        if (window._pyforest_update_imports_cell) { window._pyforest_update_imports_cell('import matplotlib.pyplot as plt'); }\n",
       "    "
      ],
      "text/plain": [
       "<IPython.core.display.Javascript object>"
      ]
     },
     "metadata": {},
     "output_type": "display_data"
    },
    {
     "data": {
      "application/javascript": [
       "\n",
       "        if (window._pyforest_update_imports_cell) { window._pyforest_update_imports_cell('import matplotlib.pyplot as plt'); }\n",
       "    "
      ],
      "text/plain": [
       "<IPython.core.display.Javascript object>"
      ]
     },
     "metadata": {},
     "output_type": "display_data"
    },
    {
     "data": {
      "image/png": "[encoded data removed]",
      "text/plain": [
       "<Figure size 576x360 with 1 Axes>"
      ]
     },
     "metadata": {
      "needs_background": "light"
     },
     "output_type": "display_data"
    }
   ],
   "source": [
    "import pandas as pd\n",
    "pd.DataFrame(history.history).plot(figsize=(8,5))\n",
    "plt.grid(True)\n",
    "plt.gca().set_ylim(0,1)   # set the vertical range to [0-1]\n",
    "plt.show()"
   ]
  },
  {
   "cell_type": "markdown",
   "metadata": {},
   "source": [
    "- the validation curves are quite close to the training curves, which means that there is not too much overfitting\n",
    "- the model performed better on the validation set than on the training set at the beginning of training (when the validation set is fairly small)\n",
    "- the training set performance ends up beating the validation performance, as is generally the case when train for long enough\n",
    "- the model has not quite converged yet, as the validation loss is still going down, should probably continue training\n",
    "- just calling the fit() method again, since Keras just continues training where it left off (should be able to reach close to 89% validation accuracy)\n",
    "- if not satisfied with the performance of model, should go back and tune the model’s hyperparameters\n",
    " - the number of layers\n",
    " - the number of neurons per layer\n",
    " - the types of activation functions used for each hidden layer\n",
    " - the number of training epochs\n",
    " - the batch size"
   ]
  },
  {
   "cell_type": "code",
   "execution_count": 21,
   "metadata": {},
   "outputs": [
    {
     "name": "stdout",
     "output_type": "stream",
     "text": [
      "313/313 [==============================] - 1s 2ms/step - loss: 59.7161 - accuracy: 0.8554\n"
     ]
    },
    {
     "data": {
      "text/plain": [
       "[59.716068267822266, 0.855400025844574]"
      ]
     },
     "execution_count": 21,
     "metadata": {},
     "output_type": "execute_result"
    }
   ],
   "source": [
    "'''\n",
    "Once satisfied with model’s validation accuracy,\n",
    "should evaluate it on the test set to estimate the generalization error\n",
    "before deploying the model to production\n",
    "'''\n",
    "model.evaluate(X_test, y_test)"
   ]
  },
  {
   "cell_type": "markdown",
   "metadata": {},
   "source": [
    "- It is common to get slightly lower performance on the test set than on the validation set, because the hyperparameters are tuned on the validation set, not the test set."
   ]
  },
  {
   "cell_type": "markdown",
   "metadata": {},
   "source": [
    "#### Using the Model to Make Predictions"
   ]
  },
  {
   "cell_type": "code",
   "execution_count": 22,
   "metadata": {},
   "outputs": [],
   "source": [
    "X_new = X_test[:3]"
   ]
  },
  {
   "cell_type": "code",
   "execution_count": 26,
   "metadata": {},
   "outputs": [
    {
     "data": {
      "text/plain": [
       "array([[0., 0., 0., 0., 0., 0., 0., 0., 0., 1.],\n",
       "       [0., 0., 1., 0., 0., 0., 0., 0., 0., 0.],\n",
       "       [0., 1., 0., 0., 0., 0., 0., 0., 0., 0.]], dtype=float32)"
      ]
     },
     "execution_count": 26,
     "metadata": {},
     "output_type": "execute_result"
    }
   ],
   "source": [
    "y_proba = model.predict(X_new)\n",
    "y_proba.round(2)"
   ]
  },
  {
   "cell_type": "code",
   "execution_count": 28,
   "metadata": {},
   "outputs": [
    {
     "data": {
      "application/javascript": [
       "\n",
       "        if (window._pyforest_update_imports_cell) { window._pyforest_update_imports_cell('import matplotlib.pyplot as plt\\nimport numpy as np'); }\n",
       "    "
      ],
      "text/plain": [
       "<IPython.core.display.Javascript object>"
      ]
     },
     "metadata": {},
     "output_type": "display_data"
    },
    {
     "data": {
      "text/plain": [
       "array([9, 2, 1], dtype=int64)"
      ]
     },
     "execution_count": 28,
     "metadata": {},
     "output_type": "execute_result"
    }
   ],
   "source": [
    "# only care about the class with the highest estimated probability (even if that probability is quite low)\n",
    "'''model.predict_classes() has been removed in TensorFlow version 2.6'''\n",
    "y_pred = model.predict(X_new) \n",
    "y_classes = np.argmax(y_pred, axis=1)\n",
    "y_classes"
   ]
  },
  {
   "cell_type": "code",
   "execution_count": 29,
   "metadata": {},
   "outputs": [
    {
     "data": {
      "application/javascript": [
       "\n",
       "        if (window._pyforest_update_imports_cell) { window._pyforest_update_imports_cell('import matplotlib.pyplot as plt\\nimport numpy as np'); }\n",
       "    "
      ],
      "text/plain": [
       "<IPython.core.display.Javascript object>"
      ]
     },
     "metadata": {},
     "output_type": "display_data"
    },
    {
     "data": {
      "text/plain": [
       "array(['Ankle boot', 'Pullover', 'Trouser'], dtype='<U11')"
      ]
     },
     "execution_count": 29,
     "metadata": {},
     "output_type": "execute_result"
    }
   ],
   "source": [
    "np.array(class_names)[y_classes]"
   ]
  },
  {
   "cell_type": "code",
   "execution_count": 30,
   "metadata": {},
   "outputs": [
    {
     "data": {
      "text/plain": [
       "array([9, 2, 1], dtype=uint8)"
      ]
     },
     "execution_count": 30,
     "metadata": {},
     "output_type": "execute_result"
    }
   ],
   "source": [
    "y_new = y_test[:3]\n",
    "y_new"
   ]
  },
  {
   "cell_type": "markdown",
   "metadata": {},
   "source": [
    "### Building a Regression MLP Using the Sequential API\n",
    "- output layer has a single neuron (since only to predict a single value) and uses no activation function, and the loss function is the mean squared error."
   ]
  },
  {
   "cell_type": "code",
   "execution_count": 31,
   "metadata": {},
   "outputs": [],
   "source": [
    "from sklearn.datasets import fetch_california_housing\n",
    "from sklearn.model_selection import train_test_split\n",
    "from sklearn.preprocessing import StandardScaler"
   ]
  },
  {
   "cell_type": "code",
   "execution_count": 41,
   "metadata": {},
   "outputs": [],
   "source": [
    "housing = fetch_california_housing()\n",
    "\n",
    "X_train_full, X_test, y_train_full, y_test = train_test_split(housing.data, housing.target)\n",
    "X_train, X_valid, y_train, y_valid = train_test_split(X_train_full, y_train_full)\n",
    "\n",
    "scaler = StandardScaler()\n",
    "X_train_scaled = scaler.fit_transform(X_train)\n",
    "X_valid_scaled = scaler.transform(X_valid)\n",
    "X_test_scaled = scaler.transform(X_test)"
   ]
  },
  {
   "cell_type": "code",
   "execution_count": 42,
   "metadata": {},
   "outputs": [
    {
     "name": "stdout",
     "output_type": "stream",
     "text": [
      "Epoch 1/20\n",
      "363/363 [==============================] - 1s 983us/step - loss: nan - val_loss: nan\n",
      "Epoch 2/20\n",
      "363/363 [==============================] - 0s 786us/step - loss: nan - val_loss: nan\n",
      "Epoch 3/20\n",
      "363/363 [==============================] - 0s 859us/step - loss: nan - val_loss: nan\n",
      "Epoch 4/20\n",
      "363/363 [==============================] - 0s 787us/step - loss: nan - val_loss: nan\n",
      "Epoch 5/20\n",
      "363/363 [==============================] - 0s 797us/step - loss: nan - val_loss: nan\n",
      "Epoch 6/20\n",
      "363/363 [==============================] - 0s 793us/step - loss: nan - val_loss: nan\n",
      "Epoch 7/20\n",
      "363/363 [==============================] - 0s 786us/step - loss: nan - val_loss: nan\n",
      "Epoch 8/20\n",
      "363/363 [==============================] - 0s 790us/step - loss: nan - val_loss: nan\n",
      "Epoch 9/20\n",
      "363/363 [==============================] - 0s 834us/step - loss: nan - val_loss: nan\n",
      "Epoch 10/20\n",
      "363/363 [==============================] - 0s 804us/step - loss: nan - val_loss: nan\n",
      "Epoch 11/20\n",
      "363/363 [==============================] - ETA: 0s - loss: n - 0s 807us/step - loss: nan - val_loss: nan\n",
      "Epoch 12/20\n",
      "363/363 [==============================] - 0s 805us/step - loss: nan - val_loss: nan\n",
      "Epoch 13/20\n",
      "363/363 [==============================] - 0s 855us/step - loss: nan - val_loss: nan\n",
      "Epoch 14/20\n",
      "363/363 [==============================] - 0s 806us/step - loss: nan - val_loss: nan\n",
      "Epoch 15/20\n",
      "363/363 [==============================] - 0s 878us/step - loss: nan - val_loss: nan\n",
      "Epoch 16/20\n",
      "363/363 [==============================] - 0s 903us/step - loss: nan - val_loss: nan\n",
      "Epoch 17/20\n",
      "363/363 [==============================] - 0s 910us/step - loss: nan - val_loss: nan\n",
      "Epoch 18/20\n",
      "363/363 [==============================] - 0s 791us/step - loss: nan - val_loss: nan\n",
      "Epoch 19/20\n",
      "363/363 [==============================] - 0s 804us/step - loss: nan - val_loss: nan\n",
      "Epoch 20/20\n",
      "363/363 [==============================] - 0s 807us/step - loss: nan - val_loss: nan\n",
      "162/162 [==============================] - 0s 514us/step - loss: nan\n"
     ]
    }
   ],
   "source": [
    "model = keras.models.Sequential([keras.layers.Dense(30, activation=\"relu\", input_shape=X_train.shape[1:]),\n",
    "                                 keras.layers.Dense(1)])\n",
    "\n",
    "model.compile(loss=\"mean_squared_error\", optimizer=\"sgd\")\n",
    "\n",
    "history = model.fit(X_train, y_train, epochs=20, validation_data=(X_valid, y_valid))\n",
    "\n",
    "mse_test = model.evaluate(X_test, y_test)\n",
    "\n",
    "X_new = X_test[:3]\n",
    "y_pred = model.predict(X_new)"
   ]
  },
  {
   "attachments": {
    "image.png": {
     "image/png": "[encoded data removed]"
    }
   },
   "cell_type": "markdown",
   "metadata": {},
   "source": [
    "### Building Complex Models Using the Functional API\n",
    "- One example of a non-sequential neural network is a Wide & Deep neural network.\n",
    "- It connects all or part of the inputs directly to the output layer.\n",
    "- This architecture makes it possible for the neural network to learn both deep patterns (using the deep path) and simple rules (through the short path).\n",
    "![image.png](attachment:image.png)"
   ]
  },
  {
   "cell_type": "code",
   "execution_count": 37,
   "metadata": {},
   "outputs": [],
   "source": [
    "# create an Input object as may have multiple inputs\n",
    "input = keras.layers.Input(shape=X_train.shape[1:])\n",
    "\n",
    "'''\n",
    "create a Dense layer with 30 neurons and using the ReLU activation function\n",
    "like a function, passing it the input\n",
    "telling Keras how it should connect the layers together, no actual data is being processed yet\n",
    "'''\n",
    "hidden1 = keras.layers.Dense(30, activation=\"relu\")(input)\n",
    "\n",
    "hidden2 = keras.layers.Dense(30, activation=\"relu\")(hidden1)\n",
    "\n",
    "#create a Concatenate() layer, concatenating the input and the output of the second hidden layer\n",
    "contact = keras.layers.concatenate([input, hidden2])\n",
    "\n",
    "# create the output layer, with a single neuron and no activation function, passing it the result of the concatenation\n",
    "output = keras.layers.Dense(1)(contact)\n",
    "\n",
    "# create a Keras Model, specifying which inputs and outputs to use\n",
    "model = keras.models.Model(inputs=[input], outputs=[output])"
   ]
  },
  {
   "cell_type": "markdown",
   "metadata": {},
   "source": [
    "- Once have built the Keras model, everything is exactly like earlier"
   ]
  },
  {
   "attachments": {
    "image-2.png": {
     "image/png": "[encoded data removed]"
    }
   },
   "cell_type": "markdown",
   "metadata": {},
   "source": [
    "![image-2.png](attachment:image-2.png)\n",
    "- send a subset of the features through the wide path, and a different subset (possibly overlapping) through the deep path\n",
    "- one solution is to use multiple inputs"
   ]
  },
  {
   "cell_type": "code",
   "execution_count": 39,
   "metadata": {},
   "outputs": [],
   "source": [
    "# send 5 features through the deep path (features 0 to 4), and 6 features through the wide path (features 2 to 7)\n",
    "input_A = keras.layers.Input(shape=[5])\n",
    "input_B = keras.layers.Input(shape=[6])\n",
    "hidden1 = keras.layers.Dense(30, activation=\"relu\")(input_B)\n",
    "hidden2 = keras.layers.Dense(30, activation=\"relu\")(hidden1)\n",
    "concat = keras.layers.concatenate([input_A, hidden2])\n",
    "output = keras.layers.Dense(1)(concat)\n",
    "\n",
    "model = keras.models.Model(inputs=[input_A, input_B], outputs=[output])"
   ]
  },
  {
   "cell_type": "code",
   "execution_count": 40,
   "metadata": {},
   "outputs": [
    {
     "name": "stdout",
     "output_type": "stream",
     "text": [
      "Epoch 1/20\n",
      "363/363 [==============================] - 1s 1ms/step - loss: nan - val_loss: nan\n",
      "Epoch 2/20\n",
      "363/363 [==============================] - 0s 959us/step - loss: nan - val_loss: nan\n",
      "Epoch 3/20\n",
      "363/363 [==============================] - 0s 1ms/step - loss: nan - val_loss: nan\n",
      "Epoch 4/20\n",
      "363/363 [==============================] - 0s 961us/step - loss: nan - val_loss: nan\n",
      "Epoch 5/20\n",
      "363/363 [==============================] - 0s 951us/step - loss: nan - val_loss: nan\n",
      "Epoch 6/20\n",
      "363/363 [==============================] - 0s 977us/step - loss: nan - val_loss: nan\n",
      "Epoch 7/20\n",
      "363/363 [==============================] - 0s 959us/step - loss: nan - val_loss: nan\n",
      "Epoch 8/20\n",
      "363/363 [==============================] - 0s 957us/step - loss: nan - val_loss: nan\n",
      "Epoch 9/20\n",
      "363/363 [==============================] - 0s 973us/step - loss: nan - val_loss: nan\n",
      "Epoch 10/20\n",
      "363/363 [==============================] - 0s 999us/step - loss: nan - val_loss: nan\n",
      "Epoch 11/20\n",
      "363/363 [==============================] - 0s 845us/step - loss: nan - val_loss: nan\n",
      "Epoch 12/20\n",
      "363/363 [==============================] - 0s 957us/step - loss: nan - val_loss: nan\n",
      "Epoch 13/20\n",
      "363/363 [==============================] - 0s 947us/step - loss: nan - val_loss: nan\n",
      "Epoch 14/20\n",
      "363/363 [==============================] - 0s 959us/step - loss: nan - val_loss: nan\n",
      "Epoch 15/20\n",
      "363/363 [==============================] - 0s 962us/step - loss: nan - val_loss: nan\n",
      "Epoch 16/20\n",
      "363/363 [==============================] - 0s 957us/step - loss: nan - val_loss: nan\n",
      "Epoch 17/20\n",
      "363/363 [==============================] - 0s 941us/step - loss: nan - val_loss: nan\n",
      "Epoch 18/20\n",
      "363/363 [==============================] - 0s 964us/step - loss: nan - val_loss: nan\n",
      "Epoch 19/20\n",
      "363/363 [==============================] - 0s 972us/step - loss: nan - val_loss: nan\n",
      "Epoch 20/20\n",
      "363/363 [==============================] - 0s 943us/step - loss: nan - val_loss: nan\n",
      "162/162 [==============================] - 0s 642us/step - loss: nan\n"
     ]
    }
   ],
   "source": [
    "model.compile(loss=\"mse\", optimizer=\"sgd\")\n",
    "\n",
    "X_train_A, X_train_B = X_train[:, :5], X_train[:, 2:]\n",
    "X_valid_A, X_valid_B = X_valid[:, :5], X_valid[:, 2:]\n",
    "X_test_A, X_test_B = X_test[:, :5], X_test[:, 2:]\n",
    "X_new_A, X_new_B = X_test_A[:3], X_test_B[:3]\n",
    "\n",
    "history = model.fit((X_train_A, X_train_B), y_train, epochs=20, validation_data=((X_valid_A, X_valid_B), y_valid))\n",
    "mse_test = model.evaluate((X_test_A, X_test_B), y_test)\n",
    "y_pred = model.predict((X_new_A, X_new_B))"
   ]
  },
  {
   "cell_type": "code",
   "execution_count": null,
   "metadata": {},
   "outputs": [],
   "source": []
  },
  {
   "attachments": {
    "image-2.png": {
     "image/png": "[encoded data removed]"
    }
   },
   "cell_type": "markdown",
   "metadata": {},
   "source": [
    "![image-2.png](attachment:image-2.png)\n",
    "- add some auxiliary outputs in a neural network architectureto ensure that\n",
    "- the underlying part of the network learns something useful on its own, without relying on the rest of the network"
   ]
  },
  {
   "cell_type": "code",
   "execution_count": 44,
   "metadata": {},
   "outputs": [],
   "source": [
    "input_A = keras.layers.Input(shape=[5])\n",
    "input_B = keras.layers.Input(shape=[6])\n",
    "hidden1 = keras.layers.Dense(30, activation=\"relu\")(input_B)\n",
    "hidden2 = keras.layers.Dense(30, activation=\"relu\")(hidden1)\n",
    "concat = keras.layers.concatenate([input_A, hidden2])\n",
    "output = keras.layers.Dense(1)(concat)\n",
    "aux_output = keras.layers.Dense(1)(hidden2)\n",
    "\n",
    "model = keras.models.Model(inputs=[input_A, input_B], outputs=[output, aux_output])"
   ]
  },
  {
   "cell_type": "code",
   "execution_count": 45,
   "metadata": {},
   "outputs": [
    {
     "name": "stdout",
     "output_type": "stream",
     "text": [
      "Epoch 1/20\n",
      "363/363 [==============================] - 1s 1ms/step - loss: nan - dense_26_loss: nan - dense_27_loss: nan - val_loss: nan - val_dense_26_loss: nan - val_dense_27_loss: nan\n",
      "Epoch 2/20\n",
      "363/363 [==============================] - 0s 1ms/step - loss: nan - dense_26_loss: nan - dense_27_loss: nan - val_loss: nan - val_dense_26_loss: nan - val_dense_27_loss: nan\n",
      "Epoch 3/20\n",
      "363/363 [==============================] - 0s 1ms/step - loss: nan - dense_26_loss: nan - dense_27_loss: nan - val_loss: nan - val_dense_26_loss: nan - val_dense_27_loss: nan\n",
      "Epoch 4/20\n",
      "363/363 [==============================] - 0s 1ms/step - loss: nan - dense_26_loss: nan - dense_27_loss: nan - val_loss: nan - val_dense_26_loss: nan - val_dense_27_loss: nan\n",
      "Epoch 5/20\n",
      "363/363 [==============================] - 0s 1ms/step - loss: nan - dense_26_loss: nan - dense_27_loss: nan - val_loss: nan - val_dense_26_loss: nan - val_dense_27_loss: nan\n",
      "Epoch 6/20\n",
      "363/363 [==============================] - 0s 1ms/step - loss: nan - dense_26_loss: nan - dense_27_loss: nan - val_loss: nan - val_dense_26_loss: nan - val_dense_27_loss: nan\n",
      "Epoch 7/20\n",
      "363/363 [==============================] - 0s 1ms/step - loss: nan - dense_26_loss: nan - dense_27_loss: nan - val_loss: nan - val_dense_26_loss: nan - val_dense_27_loss: nan\n",
      "Epoch 8/20\n",
      "363/363 [==============================] - 0s 1ms/step - loss: nan - dense_26_loss: nan - dense_27_loss: nan - val_loss: nan - val_dense_26_loss: nan - val_dense_27_loss: nan\n",
      "Epoch 9/20\n",
      "363/363 [==============================] - 0s 1ms/step - loss: nan - dense_26_loss: nan - dense_27_loss: nan - val_loss: nan - val_dense_26_loss: nan - val_dense_27_loss: nan\n",
      "Epoch 10/20\n",
      "363/363 [==============================] - 0s 1ms/step - loss: nan - dense_26_loss: nan - dense_27_loss: nan - val_loss: nan - val_dense_26_loss: nan - val_dense_27_loss: nan\n",
      "Epoch 11/20\n",
      "363/363 [==============================] - 0s 1ms/step - loss: nan - dense_26_loss: nan - dense_27_loss: nan - val_loss: nan - val_dense_26_loss: nan - val_dense_27_loss: nan\n",
      "Epoch 12/20\n",
      "363/363 [==============================] - 0s 1ms/step - loss: nan - dense_26_loss: nan - dense_27_loss: nan - val_loss: nan - val_dense_26_loss: nan - val_dense_27_loss: nan\n",
      "Epoch 13/20\n",
      "363/363 [==============================] - 0s 1ms/step - loss: nan - dense_26_loss: nan - dense_27_loss: nan - val_loss: nan - val_dense_26_loss: nan - val_dense_27_loss: nan\n",
      "Epoch 14/20\n",
      "363/363 [==============================] - 0s 1ms/step - loss: nan - dense_26_loss: nan - dense_27_loss: nan - val_loss: nan - val_dense_26_loss: nan - val_dense_27_loss: nan\n",
      "Epoch 15/20\n",
      "363/363 [==============================] - 1s 2ms/step - loss: nan - dense_26_loss: nan - dense_27_loss: nan - val_loss: nan - val_dense_26_loss: nan - val_dense_27_loss: nan\n",
      "Epoch 16/20\n",
      "363/363 [==============================] - 0s 1ms/step - loss: nan - dense_26_loss: nan - dense_27_loss: nan - val_loss: nan - val_dense_26_loss: nan - val_dense_27_loss: nan\n",
      "Epoch 17/20\n",
      "363/363 [==============================] - 0s 1ms/step - loss: nan - dense_26_loss: nan - dense_27_loss: nan - val_loss: nan - val_dense_26_loss: nan - val_dense_27_loss: nan\n",
      "Epoch 18/20\n",
      "363/363 [==============================] - 0s 1ms/step - loss: nan - dense_26_loss: nan - dense_27_loss: nan - val_loss: nan - val_dense_26_loss: nan - val_dense_27_loss: nan\n",
      "Epoch 19/20\n",
      "363/363 [==============================] - 0s 1ms/step - loss: nan - dense_26_loss: nan - dense_27_loss: nan - val_loss: nan - val_dense_26_loss: nan - val_dense_27_loss: nan\n",
      "Epoch 20/20\n",
      "363/363 [==============================] - 0s 1ms/step - loss: nan - dense_26_loss: nan - dense_27_loss: nan - val_loss: nan - val_dense_26_loss: nan - val_dense_27_loss: nan\n",
      "162/162 [==============================] - 0s 714us/step - loss: nan - dense_26_loss: nan - dense_27_loss: nan\n",
      "WARNING:tensorflow:6 out of the last 10 calls to <function Model.make_predict_function.<locals>.predict_function at 0x0000029CE10E18B0> triggered tf.function retracing. Tracing is expensive and the excessive number of tracings could be due to (1) creating @tf.function repeatedly in a loop, (2) passing tensors with different shapes, (3) passing Python objects instead of tensors. For (1), please define your @tf.function outside of the loop. For (2), @tf.function has experimental_relax_shapes=True option that relaxes argument shapes that can avoid unnecessary retracing. For (3), please refer to https://www.tensorflow.org/guide/function#controlling_retracing and https://www.tensorflow.org/api_docs/python/tf/function for  more details.\n"
     ]
    }
   ],
   "source": [
    "'''\n",
    "each output will need its own loss function\n",
    "compile the model by passing a list of losses\n",
    "passing a single loss will make Keras assume that the same loss must be used for all outputs\n",
    "By default, Keras will compute all these losses and simply add them up to get the final loss used for training\n",
    "care much more about the main output than about the auxiliary output (as it is just used for regularization)\n",
    "need to give the main output’s loss a much greater weight\n",
    "'''\n",
    "model.compile(loss=[\"mse\", \"mse\"], loss_weights=[0.9, 0.1], optimizer=\"sgd\")\n",
    "\n",
    "history = model.fit([X_train_A, X_train_B], [y_train, y_train], epochs=20,\n",
    "                    validation_data=([X_valid_A, X_valid_B], [y_valid, y_valid]))\n",
    "\n",
    "# when evaluating the model, Keras will return the total loss, as well as all the individuallosses\n",
    "total_loss, main_loss, aux_loss = model.evaluate([X_test_A, X_test_B], [y_test, y_test])\n",
    "\n",
    "y_pred_main, y_pred_aux = model.predict([X_new_A, X_new_B])"
   ]
  },
  {
   "cell_type": "markdown",
   "metadata": {},
   "source": [
    "### Building Dynamic Models Using the Subclassing API"
   ]
  },
  {
   "cell_type": "code",
   "execution_count": 46,
   "metadata": {},
   "outputs": [],
   "source": [
    "'''\n",
    "creating an instance of the following WideAndDeepModel class \n",
    "gives an equivalent model to the one just built with the Functional API\n",
    "'''\n",
    "class WideAndDeepModel(keras.models.Model):\n",
    "    def __init__(self, units=30, activation=\"relu\", **kwargs):\n",
    "        super().__init__(**kwargs)    # handles standard args (e.g., name)\n",
    "        self.hidden1 = keras.layers.Dense(units, activation=activation)\n",
    "        self.hidden2 = keras.layers.Dense(units, activation=activation)\n",
    "        self.main_output = keras.layers.Dense(1)\n",
    "        self.aux_output = keras.layers.Dense(1)\n",
    "        \n",
    "    def call(self, inputs):\n",
    "        input_A, input_B = inputs\n",
    "        hidden1 = self.hidden1(input_B)\n",
    "        hidden2 = self.hidden2(hidden1)\n",
    "        concat = keras.layers.concatenate([input_A, hidden2])\n",
    "        main_output = self.main_output(concat)\n",
    "        aux_output = self.aux_output(hidden2)\n",
    "        return main_output, aux_output\n",
    "\n",
    "model = WideAndDeepModel()"
   ]
  },
  {
   "cell_type": "code",
   "execution_count": null,
   "metadata": {},
   "outputs": [],
   "source": [
    "'''\n",
    "Save a trained Keras model (for only Sequential API or the Functional API), using the HDF5 format\n",
    "the model’s architecture (including every layer’s hyperparameters) \n",
    "the value of all the model parameters for every layer (e.g., connection weights and biases)\n",
    "the optimizer (including its hyperparameters and any state it may have)\n",
    "'''\n",
    "model.save(\"my_keras_model.h5\")\n",
    "\n",
    "# Load the model\n",
    "model = keras.models.load_model(\"my_keras_model.h5\")"
   ]
  }
 ],
 "metadata": {
  "kernelspec": {
   "display_name": "Python 3 (ipykernel)",
   "language": "python",
   "name": "python3"
  },
  "language_info": {
   "codemirror_mode": {
    "name": "ipython",
    "version": 3
   },
   "file_extension": ".py",
   "mimetype": "text/x-python",
   "name": "python",
   "nbconvert_exporter": "python",
   "pygments_lexer": "ipython3",
   "version": "3.8.8"
  }
 },
 "nbformat": 4,
 "nbformat_minor": 4
}
