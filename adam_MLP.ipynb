{
 "cells": [
  {
   "cell_type": "code",
   "execution_count": null,
   "id": "868732d5",
   "metadata": {},
   "outputs": [],
   "source": [
    "# Rohitash Chandra, 2021 c.rohitash@gmail.conm\n",
    "# https://github.com/sydney-machine-learning/multilayerperceptron-sgd-adam/blob/main/fnn-multiplelayers.py\n",
    "# Source: https://github.com/sydney-machine-learning/multilayerperceptron-sgd-adam/blob/main/fnn-multiplelayers.py\n",
    "\n",
    "import matplotlib.pyplot as plt\n",
    "import numpy as np \n",
    "import random\n",
    "import time\n",
    "from numpy import *\n",
    "from sklearn.preprocessing import Normalizer\n",
    "from sklearn.model_selection import train_test_split\n",
    "\n",
    "\n",
    "class Layers:\n",
    "    \n",
    "    def __init__(self, first, second, adam_learnrate=None):\n",
    "        #self.number = first\n",
    "        self.weights = np.random.uniform(-0.5, 0.5, (first, second))   \n",
    "        self.bias = np.random.uniform(-0.5, 0.5, (1, second))  # bias second layer\n",
    "\n",
    "        self.output = np.zeros(second)    # output of layer \n",
    "        self.gradient = np.zeros(second)  # gradient of layer\n",
    "        \n",
    "        \n",
    "class Network:\n",
    "    \n",
    "    def __init__(self, topology, x_train, x_test, y_train, y_test, max_epocs, min_error, learn_rate):\n",
    "        # this is called construtor\n",
    "        self.topology = topology\n",
    "        self.output_activationfunc = 'sigmoid'\n",
    "        self.max_epocs = max_epocs    # max epocs\n",
    "        #self.TrainData = Train\n",
    "        #self.TestData = Test\n",
    "\n",
    "        self.x_train = x_train\n",
    "        self.x_test = x_test\n",
    "        self.y_train = y_train\n",
    "        self.y_test = y_test\n",
    "\n",
    "        self.num_samples = x_train.shape[0] \n",
    "\n",
    "        self.sgdlearn_rate = learn_rate\n",
    "\n",
    "        self.min_error = min_error \n",
    "\n",
    "        np.random.seed()   \n",
    "\n",
    "        self.adam_learnrate = 0.05    # sensitive for adam\n",
    "\n",
    "        self.end_index = len(self.topology) - 1\n",
    "\n",
    "        self.layer = [None]*20  \n",
    "        # create list of Layers objects (just max size of 20 for now - assuming a very deep neural network)\n",
    "\n",
    "        print(self.topology, ' topology')\n",
    "\n",
    "        self.layer[0] = Layers(1,1, 0)    # this is just for layer where input features are stored\n",
    "\n",
    "        for n in range(1, len(self.topology)):\n",
    "            self.layer[n] = Layers(self.topology[n-1], self.topology[n], self.adam_learnrate)"
   ]
  },
  {
   "cell_type": "code",
   "execution_count": 1,
   "id": "e2763a35",
   "metadata": {
    "scrolled": true
   },
   "outputs": [
    {
     "data": {
      "image/png": "[encoded data removed]",
      "text/plain": [
       "<Figure size 432x288 with 1 Axes>"
      ]
     },
     "metadata": {
      "needs_background": "light"
     },
     "output_type": "display_data"
    }
   ],
   "source": [
    "# Source: https://machinelearningmastery.com/how-to-reduce-overfitting-in-deep-learning-with-weight-regularization/\n",
    "# overfit mlp for the moons dataset plotting history without regularisation\n",
    "\n",
    "from sklearn.datasets import make_moons\n",
    "from keras.layers import Dense\n",
    "from keras.models import Sequential\n",
    "from matplotlib import pyplot\n",
    "\n",
    "# generate 2d classification dataset\n",
    "X, y = make_moons(n_samples=100, noise=0.2, random_state=1)\n",
    "\n",
    "# split into train and test\n",
    "n_train = 30\n",
    "trainX, testX = X[:n_train, :], X[n_train:, :]\n",
    "trainy, testy = y[:n_train], y[n_train:]\n",
    "\n",
    "# define model\n",
    "model = Sequential()\n",
    "model.add(Dense(500, input_dim=2, activation='relu'))\n",
    "model.add(Dense(1, activation='sigmoid'))\n",
    "model.compile(loss='binary_crossentropy', optimizer='adam', metrics=['accuracy'])\n",
    "\n",
    "# fit model\n",
    "history = model.fit(trainX, trainy, validation_data=(testX, testy), epochs=4000, verbose=0)\n",
    "\n",
    "# plot history\n",
    "# summarize history for accuracy\n",
    "pyplot.plot(history.history['accuracy'], label='train')\n",
    "pyplot.plot(history.history['val_accuracy'], label='test')\n",
    "pyplot.legend()\n",
    "pyplot.savefig('figures/normalnn.png')"
   ]
  },
  {
   "cell_type": "code",
   "execution_count": null,
   "id": "f0072079",
   "metadata": {},
   "outputs": [],
   "source": []
  },
  {
   "cell_type": "code",
   "execution_count": 3,
   "id": "880cabee",
   "metadata": {},
   "outputs": [
    {
     "data": {
      "image/png": "[encoded data removed]",
      "text/plain": [
       "<Figure size 432x288 with 1 Axes>"
      ]
     },
     "metadata": {
      "needs_background": "light"
     },
     "output_type": "display_data"
    }
   ],
   "source": [
    "# source: https://machinelearningmastery.com/how-to-reduce-overfitting-in-deep-learning-with-weight-regularization/\n",
    "# mlp with weight regularization (weight decay based on L2 regularisation) for the moons dataset plotting history\n",
    "\n",
    "from sklearn.datasets import make_moons\n",
    "from keras.layers import Dense\n",
    "from keras.models import Sequential\n",
    "from keras.regularizers import l2\n",
    "from matplotlib import pyplot\n",
    "\n",
    "# generate 2d classification dataset\n",
    "X, y = make_moons(n_samples=100, noise=0.2, random_state=1)\n",
    "\n",
    "# split into train and test\n",
    "n_train = 30\n",
    "trainX, testX = X[:n_train, :], X[n_train:, :]\n",
    "trainy, testy = y[:n_train], y[n_train:]\n",
    "\n",
    "# define model\n",
    "model = Sequential()\n",
    "model.add(Dense(500, input_dim=2, activation='relu', kernel_regularizer=l2(0.001)))\n",
    "model.add(Dense(1, activation='sigmoid'))\n",
    "model.compile(loss='binary_crossentropy', optimizer='adam', metrics=['accuracy'])\n",
    "\n",
    "# fit model\n",
    "history = model.fit(trainX, trainy, validation_data=(testX, testy), epochs=4000, verbose=0)\n",
    "\n",
    "# plot history\n",
    "# summarize history for accuracy\n",
    "pyplot.plot(history.history['accuracy'], label='train')\n",
    "pyplot.plot(history.history['val_accuracy'], label='test')\n",
    "pyplot.legend()\n",
    "pyplot.savefig('figures/weightl2regu.png')"
   ]
  },
  {
   "cell_type": "code",
   "execution_count": null,
   "id": "0c87939b",
   "metadata": {},
   "outputs": [],
   "source": []
  }
 ],
 "metadata": {
  "kernelspec": {
   "display_name": "Python 3 (ipykernel)",
   "language": "python",
   "name": "python3"
  },
  "language_info": {
   "codemirror_mode": {
    "name": "ipython",
    "version": 3
   },
   "file_extension": ".py",
   "mimetype": "text/x-python",
   "name": "python",
   "nbconvert_exporter": "python",
   "pygments_lexer": "ipython3",
   "version": "3.8.8"
  }
 },
 "nbformat": 4,
 "nbformat_minor": 5
}
