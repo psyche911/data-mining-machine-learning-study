{
 "cells": [
  {
   "cell_type": "code",
   "execution_count": 1,
   "id": "0a05cdea",
   "metadata": {},
   "outputs": [],
   "source": [
    "import random\n",
    "from sklearn import datasets, linear_model\n",
    "from sklearn import metrics\n",
    "\n",
    "from sklearn.metrics import mean_squared_error, r2_score\n",
    "from sklearn.metrics import roc_auc_score, roc_curve, auc\n",
    "from sklearn.metrics import accuracy_score\n",
    "from sklearn.metrics import confusion_matrix\n",
    "\n",
    "from sklearn.preprocessing import Normalizer\n",
    "\n",
    "from sklearn.model_selection import train_test_split\n",
    "from sklearn.model_selection import cross_validate"
   ]
  },
  {
   "cell_type": "code",
   "execution_count": 10,
   "id": "cd43b057",
   "metadata": {},
   "outputs": [
    {
     "data": {
      "application/javascript": [
       "\n",
       "        if (window._pyforest_update_imports_cell) { window._pyforest_update_imports_cell('import numpy as np\\nimport matplotlib.pyplot as plt'); }\n",
       "    "
      ],
      "text/plain": [
       "<IPython.core.display.Javascript object>"
      ]
     },
     "metadata": {},
     "output_type": "display_data"
    },
    {
     "data": {
      "application/javascript": [
       "\n",
       "        if (window._pyforest_update_imports_cell) { window._pyforest_update_imports_cell('import numpy as np\\nimport matplotlib.pyplot as plt'); }\n",
       "    "
      ],
      "text/plain": [
       "<IPython.core.display.Javascript object>"
      ]
     },
     "metadata": {},
     "output_type": "display_data"
    },
    {
     "data": {
      "application/javascript": [
       "\n",
       "        if (window._pyforest_update_imports_cell) { window._pyforest_update_imports_cell('import numpy as np\\nimport matplotlib.pyplot as plt'); }\n",
       "    "
      ],
      "text/plain": [
       "<IPython.core.display.Javascript object>"
      ]
     },
     "metadata": {},
     "output_type": "display_data"
    },
    {
     "data": {
      "application/javascript": [
       "\n",
       "        if (window._pyforest_update_imports_cell) { window._pyforest_update_imports_cell('import numpy as np\\nimport matplotlib.pyplot as plt'); }\n",
       "    "
      ],
      "text/plain": [
       "<IPython.core.display.Javascript object>"
      ]
     },
     "metadata": {},
     "output_type": "display_data"
    },
    {
     "name": "stdout",
     "output_type": "stream",
     "text": [
      "\n",
      "Coefficients: \n",
      " [[ 6.79917033e-04  5.42756385e-03 -1.39193074e-02 -3.33983272e-03\n",
      "   1.27651284e-03 -2.40839037e-03 -3.86565901e-06 -1.70212256e-03]]\n",
      "RMSE: 0.58\n",
      "Explained variance score: -0.50\n",
      "Accuracy score:  0.6655844155844156\n",
      "AUC score:  0.5917266187050358\n",
      "Confusion matrix: \n",
      " [[190  88]\n",
      " [ 15  15]]\n"
     ]
    },
    {
     "data": {
      "application/javascript": [
       "\n",
       "        if (window._pyforest_update_imports_cell) { window._pyforest_update_imports_cell('import numpy as np\\nimport matplotlib.pyplot as plt'); }\n",
       "    "
      ],
      "text/plain": [
       "<IPython.core.display.Javascript object>"
      ]
     },
     "metadata": {},
     "output_type": "display_data"
    },
    {
     "data": {
      "application/javascript": [
       "\n",
       "        if (window._pyforest_update_imports_cell) { window._pyforest_update_imports_cell('import numpy as np\\nimport matplotlib.pyplot as plt'); }\n",
       "    "
      ],
      "text/plain": [
       "<IPython.core.display.Javascript object>"
      ]
     },
     "metadata": {},
     "output_type": "display_data"
    },
    {
     "data": {
      "application/javascript": [
       "\n",
       "        if (window._pyforest_update_imports_cell) { window._pyforest_update_imports_cell('import numpy as np\\nimport matplotlib.pyplot as plt'); }\n",
       "    "
      ],
      "text/plain": [
       "<IPython.core.display.Javascript object>"
      ]
     },
     "metadata": {},
     "output_type": "display_data"
    },
    {
     "data": {
      "application/javascript": [
       "\n",
       "        if (window._pyforest_update_imports_cell) { window._pyforest_update_imports_cell('import numpy as np\\nimport matplotlib.pyplot as plt'); }\n",
       "    "
      ],
      "text/plain": [
       "<IPython.core.display.Javascript object>"
      ]
     },
     "metadata": {},
     "output_type": "display_data"
    },
    {
     "data": {
      "application/javascript": [
       "\n",
       "        if (window._pyforest_update_imports_cell) { window._pyforest_update_imports_cell('import numpy as np\\nimport matplotlib.pyplot as plt'); }\n",
       "    "
      ],
      "text/plain": [
       "<IPython.core.display.Javascript object>"
      ]
     },
     "metadata": {},
     "output_type": "display_data"
    },
    {
     "data": {
      "application/javascript": [
       "\n",
       "        if (window._pyforest_update_imports_cell) { window._pyforest_update_imports_cell('import numpy as np\\nimport matplotlib.pyplot as plt'); }\n",
       "    "
      ],
      "text/plain": [
       "<IPython.core.display.Javascript object>"
      ]
     },
     "metadata": {},
     "output_type": "display_data"
    },
    {
     "name": "stdout",
     "output_type": "stream",
     "text": [
      "10-fold Cross Validation:  {'fit_time': array([0.00099754, 0.00099754, 0.00199485, 0.00099707, 0.00099707,\n",
      "       0.0009973 , 0.0009973 , 0.0009973 , 0.0009973 , 0.00099778]), 'score_time': array([0.        , 0.        , 0.        , 0.00099707, 0.        ,\n",
      "       0.00099707, 0.        , 0.00099754, 0.        , 0.00099683]), 'test_score': array([0.69565217, 0.58695652, 0.65217391, 0.67391304, 0.65217391,\n",
      "       0.65217391, 0.58695652, 0.69565217, 0.65217391, 0.60869565])}\n",
      "\n",
      "Coefficients: \n",
      " [[ 1.35227026e-03  5.73784183e-03 -1.50475737e-02 -2.76312252e-03\n",
      "   1.02830280e-03 -2.11197465e-03  1.97151380e-05 -4.80943746e-04]]\n",
      "RMSE: 0.58\n",
      "Explained variance score: -0.49\n",
      "Accuracy score:  0.6688311688311688\n",
      "AUC score:  0.6010248049376965\n",
      "Confusion matrix: \n",
      " [[190  87]\n",
      " [ 15  16]]\n"
     ]
    },
    {
     "data": {
      "application/javascript": [
       "\n",
       "        if (window._pyforest_update_imports_cell) { window._pyforest_update_imports_cell('import numpy as np\\nimport matplotlib.pyplot as plt'); }\n",
       "    "
      ],
      "text/plain": [
       "<IPython.core.display.Javascript object>"
      ]
     },
     "metadata": {},
     "output_type": "display_data"
    },
    {
     "data": {
      "application/javascript": [
       "\n",
       "        if (window._pyforest_update_imports_cell) { window._pyforest_update_imports_cell('import numpy as np\\nimport matplotlib.pyplot as plt'); }\n",
       "    "
      ],
      "text/plain": [
       "<IPython.core.display.Javascript object>"
      ]
     },
     "metadata": {},
     "output_type": "display_data"
    },
    {
     "data": {
      "application/javascript": [
       "\n",
       "        if (window._pyforest_update_imports_cell) { window._pyforest_update_imports_cell('import numpy as np\\nimport matplotlib.pyplot as plt'); }\n",
       "    "
      ],
      "text/plain": [
       "<IPython.core.display.Javascript object>"
      ]
     },
     "metadata": {},
     "output_type": "display_data"
    },
    {
     "data": {
      "application/javascript": [
       "\n",
       "        if (window._pyforest_update_imports_cell) { window._pyforest_update_imports_cell('import numpy as np\\nimport matplotlib.pyplot as plt'); }\n",
       "    "
      ],
      "text/plain": [
       "<IPython.core.display.Javascript object>"
      ]
     },
     "metadata": {},
     "output_type": "display_data"
    },
    {
     "data": {
      "application/javascript": [
       "\n",
       "        if (window._pyforest_update_imports_cell) { window._pyforest_update_imports_cell('import numpy as np\\nimport matplotlib.pyplot as plt'); }\n",
       "    "
      ],
      "text/plain": [
       "<IPython.core.display.Javascript object>"
      ]
     },
     "metadata": {},
     "output_type": "display_data"
    },
    {
     "data": {
      "application/javascript": [
       "\n",
       "        if (window._pyforest_update_imports_cell) { window._pyforest_update_imports_cell('import numpy as np\\nimport matplotlib.pyplot as plt'); }\n",
       "    "
      ],
      "text/plain": [
       "<IPython.core.display.Javascript object>"
      ]
     },
     "metadata": {},
     "output_type": "display_data"
    },
    {
     "name": "stdout",
     "output_type": "stream",
     "text": [
      "10-fold Cross Validation:  {'fit_time': array([0.00199485, 0.00099707, 0.00099635, 0.00099707, 0.00199485,\n",
      "       0.00099754, 0.00099707, 0.00099754, 0.0009973 , 0.00099754]), 'score_time': array([0.00099778, 0.00099778, 0.00099754, 0.        , 0.        ,\n",
      "       0.00099707, 0.        , 0.0009973 , 0.        , 0.00099707]), 'test_score': array([0.69565217, 0.58695652, 0.65217391, 0.67391304, 0.65217391,\n",
      "       0.67391304, 0.56521739, 0.7173913 , 0.65217391, 0.60869565])}\n",
      "\n",
      "Coefficients: \n",
      " [[ 1.28120385e-03  5.81970918e-03 -1.45569965e-02 -3.35070371e-03\n",
      "   1.16422823e-03 -2.80971953e-03  2.11463993e-05 -1.08220813e-03]]\n",
      "RMSE: 0.58\n",
      "Explained variance score: -0.49\n",
      "Accuracy score:  0.6688311688311688\n",
      "AUC score:  0.6010248049376965\n",
      "Confusion matrix: \n",
      " [[190  87]\n",
      " [ 15  16]]\n"
     ]
    },
    {
     "data": {
      "application/javascript": [
       "\n",
       "        if (window._pyforest_update_imports_cell) { window._pyforest_update_imports_cell('import numpy as np\\nimport matplotlib.pyplot as plt'); }\n",
       "    "
      ],
      "text/plain": [
       "<IPython.core.display.Javascript object>"
      ]
     },
     "metadata": {},
     "output_type": "display_data"
    },
    {
     "data": {
      "application/javascript": [
       "\n",
       "        if (window._pyforest_update_imports_cell) { window._pyforest_update_imports_cell('import numpy as np\\nimport matplotlib.pyplot as plt'); }\n",
       "    "
      ],
      "text/plain": [
       "<IPython.core.display.Javascript object>"
      ]
     },
     "metadata": {},
     "output_type": "display_data"
    },
    {
     "data": {
      "application/javascript": [
       "\n",
       "        if (window._pyforest_update_imports_cell) { window._pyforest_update_imports_cell('import numpy as np\\nimport matplotlib.pyplot as plt'); }\n",
       "    "
      ],
      "text/plain": [
       "<IPython.core.display.Javascript object>"
      ]
     },
     "metadata": {},
     "output_type": "display_data"
    },
    {
     "data": {
      "application/javascript": [
       "\n",
       "        if (window._pyforest_update_imports_cell) { window._pyforest_update_imports_cell('import numpy as np\\nimport matplotlib.pyplot as plt'); }\n",
       "    "
      ],
      "text/plain": [
       "<IPython.core.display.Javascript object>"
      ]
     },
     "metadata": {},
     "output_type": "display_data"
    },
    {
     "data": {
      "application/javascript": [
       "\n",
       "        if (window._pyforest_update_imports_cell) { window._pyforest_update_imports_cell('import numpy as np\\nimport matplotlib.pyplot as plt'); }\n",
       "    "
      ],
      "text/plain": [
       "<IPython.core.display.Javascript object>"
      ]
     },
     "metadata": {},
     "output_type": "display_data"
    },
    {
     "data": {
      "application/javascript": [
       "\n",
       "        if (window._pyforest_update_imports_cell) { window._pyforest_update_imports_cell('import numpy as np\\nimport matplotlib.pyplot as plt'); }\n",
       "    "
      ],
      "text/plain": [
       "<IPython.core.display.Javascript object>"
      ]
     },
     "metadata": {},
     "output_type": "display_data"
    },
    {
     "name": "stdout",
     "output_type": "stream",
     "text": [
      "10-fold Cross Validation:  {'fit_time': array([0.0009973 , 0.00099707, 0.00099754, 0.00100493, 0.00099707,\n",
      "       0.0009973 , 0.0009973 , 0.0009973 , 0.00099754, 0.00099754]), 'score_time': array([0.0009973 , 0.        , 0.        , 0.00099015, 0.        ,\n",
      "       0.        , 0.        , 0.        , 0.        , 0.        ]), 'test_score': array([0.69565217, 0.58695652, 0.65217391, 0.67391304, 0.63043478,\n",
      "       0.65217391, 0.58695652, 0.7173913 , 0.65217391, 0.60869565])}\n",
      "-- run num -- 0\n",
      "acc_base, acc_l1, acc_l2 0.6655844155844156 0.6688311688311688 0.6688311688311688\n"
     ]
    },
    {
     "data": {
      "application/javascript": [
       "\n",
       "        if (window._pyforest_update_imports_cell) { window._pyforest_update_imports_cell('import numpy as np\\nimport matplotlib.pyplot as plt'); }\n",
       "    "
      ],
      "text/plain": [
       "<IPython.core.display.Javascript object>"
      ]
     },
     "metadata": {},
     "output_type": "display_data"
    },
    {
     "name": "stdout",
     "output_type": "stream",
     "text": [
      "\n",
      "Coefficients: \n",
      " [[ 1.04870712e-03  6.79338108e-03 -1.77931601e-02 -5.10790691e-03\n",
      "   2.39562265e-03 -1.99627508e-03 -3.19358386e-05 -3.94781928e-05]]\n",
      "RMSE: 0.63\n",
      "Explained variance score: -0.73\n",
      "Accuracy score:  0.6038961038961039\n",
      "AUC score:  0.51699604743083\n",
      "Confusion matrix: \n",
      " [[165  88]\n",
      " [ 34  21]]\n"
     ]
    },
    {
     "data": {
      "application/javascript": [
       "\n",
       "        if (window._pyforest_update_imports_cell) { window._pyforest_update_imports_cell('import numpy as np\\nimport matplotlib.pyplot as plt'); }\n",
       "    "
      ],
      "text/plain": [
       "<IPython.core.display.Javascript object>"
      ]
     },
     "metadata": {},
     "output_type": "display_data"
    },
    {
     "data": {
      "application/javascript": [
       "\n",
       "        if (window._pyforest_update_imports_cell) { window._pyforest_update_imports_cell('import numpy as np\\nimport matplotlib.pyplot as plt'); }\n",
       "    "
      ],
      "text/plain": [
       "<IPython.core.display.Javascript object>"
      ]
     },
     "metadata": {},
     "output_type": "display_data"
    },
    {
     "data": {
      "application/javascript": [
       "\n",
       "        if (window._pyforest_update_imports_cell) { window._pyforest_update_imports_cell('import numpy as np\\nimport matplotlib.pyplot as plt'); }\n",
       "    "
      ],
      "text/plain": [
       "<IPython.core.display.Javascript object>"
      ]
     },
     "metadata": {},
     "output_type": "display_data"
    },
    {
     "data": {
      "application/javascript": [
       "\n",
       "        if (window._pyforest_update_imports_cell) { window._pyforest_update_imports_cell('import numpy as np\\nimport matplotlib.pyplot as plt'); }\n",
       "    "
      ],
      "text/plain": [
       "<IPython.core.display.Javascript object>"
      ]
     },
     "metadata": {},
     "output_type": "display_data"
    },
    {
     "data": {
      "application/javascript": [
       "\n",
       "        if (window._pyforest_update_imports_cell) { window._pyforest_update_imports_cell('import numpy as np\\nimport matplotlib.pyplot as plt'); }\n",
       "    "
      ],
      "text/plain": [
       "<IPython.core.display.Javascript object>"
      ]
     },
     "metadata": {},
     "output_type": "display_data"
    },
    {
     "data": {
      "application/javascript": [
       "\n",
       "        if (window._pyforest_update_imports_cell) { window._pyforest_update_imports_cell('import numpy as np\\nimport matplotlib.pyplot as plt'); }\n",
       "    "
      ],
      "text/plain": [
       "<IPython.core.display.Javascript object>"
      ]
     },
     "metadata": {},
     "output_type": "display_data"
    },
    {
     "name": "stdout",
     "output_type": "stream",
     "text": [
      "10-fold Cross Validation:  {'fit_time': array([0.00199294, 0.00099707, 0.00095367, 0.00104308, 0.00101757,\n",
      "       0.00199413, 0.00099707, 0.00099945, 0.00095129, 0.        ]), 'score_time': array([0.        , 0.        , 0.        , 0.00097752, 0.        ,\n",
      "       0.        , 0.        , 0.00099635, 0.        , 0.00100064]), 'test_score': array([0.65217391, 0.67391304, 0.58695652, 0.69565217, 0.73913043,\n",
      "       0.65217391, 0.69565217, 0.76086957, 0.69565217, 0.69565217])}\n",
      "\n",
      "Coefficients: \n",
      " [[ 1.10059290e-03  7.63729291e-03 -2.03543362e-02 -4.50145009e-03\n",
      "   2.02424617e-03 -2.18105668e-03 -1.23715608e-05 -8.99863956e-04]]\n",
      "RMSE: 0.62\n",
      "Explained variance score: -0.66\n",
      "Accuracy score:  0.6201298701298701\n",
      "AUC score:  0.5232943469785576\n",
      "Confusion matrix: \n",
      " [[176  94]\n",
      " [ 23  15]]\n"
     ]
    },
    {
     "data": {
      "application/javascript": [
       "\n",
       "        if (window._pyforest_update_imports_cell) { window._pyforest_update_imports_cell('import numpy as np\\nimport matplotlib.pyplot as plt'); }\n",
       "    "
      ],
      "text/plain": [
       "<IPython.core.display.Javascript object>"
      ]
     },
     "metadata": {},
     "output_type": "display_data"
    },
    {
     "data": {
      "application/javascript": [
       "\n",
       "        if (window._pyforest_update_imports_cell) { window._pyforest_update_imports_cell('import numpy as np\\nimport matplotlib.pyplot as plt'); }\n",
       "    "
      ],
      "text/plain": [
       "<IPython.core.display.Javascript object>"
      ]
     },
     "metadata": {},
     "output_type": "display_data"
    },
    {
     "data": {
      "application/javascript": [
       "\n",
       "        if (window._pyforest_update_imports_cell) { window._pyforest_update_imports_cell('import numpy as np\\nimport matplotlib.pyplot as plt'); }\n",
       "    "
      ],
      "text/plain": [
       "<IPython.core.display.Javascript object>"
      ]
     },
     "metadata": {},
     "output_type": "display_data"
    },
    {
     "data": {
      "application/javascript": [
       "\n",
       "        if (window._pyforest_update_imports_cell) { window._pyforest_update_imports_cell('import numpy as np\\nimport matplotlib.pyplot as plt'); }\n",
       "    "
      ],
      "text/plain": [
       "<IPython.core.display.Javascript object>"
      ]
     },
     "metadata": {},
     "output_type": "display_data"
    },
    {
     "data": {
      "application/javascript": [
       "\n",
       "        if (window._pyforest_update_imports_cell) { window._pyforest_update_imports_cell('import numpy as np\\nimport matplotlib.pyplot as plt'); }\n",
       "    "
      ],
      "text/plain": [
       "<IPython.core.display.Javascript object>"
      ]
     },
     "metadata": {},
     "output_type": "display_data"
    },
    {
     "data": {
      "application/javascript": [
       "\n",
       "        if (window._pyforest_update_imports_cell) { window._pyforest_update_imports_cell('import numpy as np\\nimport matplotlib.pyplot as plt'); }\n",
       "    "
      ],
      "text/plain": [
       "<IPython.core.display.Javascript object>"
      ]
     },
     "metadata": {},
     "output_type": "display_data"
    },
    {
     "name": "stdout",
     "output_type": "stream",
     "text": [
      "10-fold Cross Validation:  {'fit_time': array([0.00095725, 0.00099754, 0.0009973 , 0.00099921, 0.00099874,\n",
      "       0.00195432, 0.0020051 , 0.00098228, 0.00099754, 0.00200176]), 'score_time': array([0.        , 0.        , 0.00099421, 0.        , 0.        ,\n",
      "       0.        , 0.        , 0.        , 0.        , 0.        ]), 'test_score': array([0.60869565, 0.67391304, 0.58695652, 0.69565217, 0.73913043,\n",
      "       0.65217391, 0.69565217, 0.76086957, 0.69565217, 0.69565217])}\n",
      "\n",
      "Coefficients: \n",
      " [[ 1.89456382e-03  7.96641823e-03 -2.09061795e-02 -4.93749413e-03\n",
      "   2.16358245e-03 -2.53959431e-03 -6.44556025e-05 -3.66811001e-04]]\n",
      "RMSE: 0.63\n",
      "Explained variance score: -0.73\n",
      "Accuracy score:  0.6038961038961039\n",
      "AUC score:  0.5009716941275877\n",
      "Confusion matrix: \n",
      " [[170  93]\n",
      " [ 29  16]]\n"
     ]
    },
    {
     "data": {
      "application/javascript": [
       "\n",
       "        if (window._pyforest_update_imports_cell) { window._pyforest_update_imports_cell('import numpy as np\\nimport matplotlib.pyplot as plt'); }\n",
       "    "
      ],
      "text/plain": [
       "<IPython.core.display.Javascript object>"
      ]
     },
     "metadata": {},
     "output_type": "display_data"
    },
    {
     "data": {
      "application/javascript": [
       "\n",
       "        if (window._pyforest_update_imports_cell) { window._pyforest_update_imports_cell('import numpy as np\\nimport matplotlib.pyplot as plt'); }\n",
       "    "
      ],
      "text/plain": [
       "<IPython.core.display.Javascript object>"
      ]
     },
     "metadata": {},
     "output_type": "display_data"
    },
    {
     "data": {
      "application/javascript": [
       "\n",
       "        if (window._pyforest_update_imports_cell) { window._pyforest_update_imports_cell('import numpy as np\\nimport matplotlib.pyplot as plt'); }\n",
       "    "
      ],
      "text/plain": [
       "<IPython.core.display.Javascript object>"
      ]
     },
     "metadata": {},
     "output_type": "display_data"
    },
    {
     "data": {
      "application/javascript": [
       "\n",
       "        if (window._pyforest_update_imports_cell) { window._pyforest_update_imports_cell('import numpy as np\\nimport matplotlib.pyplot as plt'); }\n",
       "    "
      ],
      "text/plain": [
       "<IPython.core.display.Javascript object>"
      ]
     },
     "metadata": {},
     "output_type": "display_data"
    },
    {
     "data": {
      "application/javascript": [
       "\n",
       "        if (window._pyforest_update_imports_cell) { window._pyforest_update_imports_cell('import numpy as np\\nimport matplotlib.pyplot as plt'); }\n",
       "    "
      ],
      "text/plain": [
       "<IPython.core.display.Javascript object>"
      ]
     },
     "metadata": {},
     "output_type": "display_data"
    },
    {
     "data": {
      "application/javascript": [
       "\n",
       "        if (window._pyforest_update_imports_cell) { window._pyforest_update_imports_cell('import numpy as np\\nimport matplotlib.pyplot as plt'); }\n",
       "    "
      ],
      "text/plain": [
       "<IPython.core.display.Javascript object>"
      ]
     },
     "metadata": {},
     "output_type": "display_data"
    },
    {
     "name": "stdout",
     "output_type": "stream",
     "text": [
      "10-fold Cross Validation:  {'fit_time': array([0.00095177, 0.00204468, 0.00099301, 0.00099874, 0.00099683,\n",
      "       0.00099683, 0.00100088, 0.00096989, 0.00099897, 0.00099587]), 'score_time': array([0.        , 0.        , 0.        , 0.00099659, 0.        ,\n",
      "       0.00100064, 0.        , 0.00101829, 0.        , 0.        ]), 'test_score': array([0.63043478, 0.67391304, 0.58695652, 0.69565217, 0.73913043,\n",
      "       0.65217391, 0.69565217, 0.80434783, 0.69565217, 0.69565217])}\n",
      "-- run num -- 1\n",
      "acc_base, acc_l1, acc_l2 0.6038961038961039 0.6201298701298701 0.6038961038961039\n"
     ]
    },
    {
     "data": {
      "application/javascript": [
       "\n",
       "        if (window._pyforest_update_imports_cell) { window._pyforest_update_imports_cell('import numpy as np\\nimport matplotlib.pyplot as plt'); }\n",
       "    "
      ],
      "text/plain": [
       "<IPython.core.display.Javascript object>"
      ]
     },
     "metadata": {},
     "output_type": "display_data"
    },
    {
     "name": "stdout",
     "output_type": "stream",
     "text": [
      "\n",
      "Coefficients: \n",
      " [[ 2.93651687e-03  7.38741019e-03 -1.79937126e-02 -3.72163719e-03\n",
      "   1.25788933e-03 -3.69470682e-03  5.40436174e-05 -9.54720032e-04]]\n",
      "RMSE: 0.58\n",
      "Explained variance score: -0.50\n",
      "Accuracy score:  0.6655844155844156\n",
      "AUC score:  0.5910714285714287\n",
      "Confusion matrix: \n",
      " [[191  89]\n",
      " [ 14  14]]\n"
     ]
    },
    {
     "data": {
      "application/javascript": [
       "\n",
       "        if (window._pyforest_update_imports_cell) { window._pyforest_update_imports_cell('import numpy as np\\nimport matplotlib.pyplot as plt'); }\n",
       "    "
      ],
      "text/plain": [
       "<IPython.core.display.Javascript object>"
      ]
     },
     "metadata": {},
     "output_type": "display_data"
    },
    {
     "data": {
      "application/javascript": [
       "\n",
       "        if (window._pyforest_update_imports_cell) { window._pyforest_update_imports_cell('import numpy as np\\nimport matplotlib.pyplot as plt'); }\n",
       "    "
      ],
      "text/plain": [
       "<IPython.core.display.Javascript object>"
      ]
     },
     "metadata": {},
     "output_type": "display_data"
    },
    {
     "data": {
      "application/javascript": [
       "\n",
       "        if (window._pyforest_update_imports_cell) { window._pyforest_update_imports_cell('import numpy as np\\nimport matplotlib.pyplot as plt'); }\n",
       "    "
      ],
      "text/plain": [
       "<IPython.core.display.Javascript object>"
      ]
     },
     "metadata": {},
     "output_type": "display_data"
    },
    {
     "data": {
      "application/javascript": [
       "\n",
       "        if (window._pyforest_update_imports_cell) { window._pyforest_update_imports_cell('import numpy as np\\nimport matplotlib.pyplot as plt'); }\n",
       "    "
      ],
      "text/plain": [
       "<IPython.core.display.Javascript object>"
      ]
     },
     "metadata": {},
     "output_type": "display_data"
    },
    {
     "data": {
      "application/javascript": [
       "\n",
       "        if (window._pyforest_update_imports_cell) { window._pyforest_update_imports_cell('import numpy as np\\nimport matplotlib.pyplot as plt'); }\n",
       "    "
      ],
      "text/plain": [
       "<IPython.core.display.Javascript object>"
      ]
     },
     "metadata": {},
     "output_type": "display_data"
    },
    {
     "data": {
      "application/javascript": [
       "\n",
       "        if (window._pyforest_update_imports_cell) { window._pyforest_update_imports_cell('import numpy as np\\nimport matplotlib.pyplot as plt'); }\n",
       "    "
      ],
      "text/plain": [
       "<IPython.core.display.Javascript object>"
      ]
     },
     "metadata": {},
     "output_type": "display_data"
    },
    {
     "name": "stdout",
     "output_type": "stream",
     "text": [
      "10-fold Cross Validation:  {'fit_time': array([0.00199008, 0.00100255, 0.00099635, 0.00099707, 0.00099659,\n",
      "       0.00099826, 0.00096035, 0.0009973 , 0.00099683, 0.00099587]), 'score_time': array([0.        , 0.00099301, 0.        , 0.        , 0.        ,\n",
      "       0.        , 0.        , 0.        , 0.        , 0.        ]), 'test_score': array([0.63043478, 0.67391304, 0.65217391, 0.63043478, 0.65217391,\n",
      "       0.63043478, 0.69565217, 0.67391304, 0.67391304, 0.65217391])}\n",
      "\n",
      "Coefficients: \n",
      " [[ 2.60061810e-03  6.43233138e-03 -1.73165699e-02 -3.61658270e-03\n",
      "   1.28379160e-03 -3.01959579e-03  5.33846987e-05  4.95198260e-04]]\n",
      "RMSE: 0.58\n",
      "Explained variance score: -0.52\n",
      "Accuracy score:  0.6623376623376623\n",
      "AUC score:  0.5805983919862923\n",
      "Confusion matrix: \n",
      " [[191  90]\n",
      " [ 14  13]]\n"
     ]
    },
    {
     "data": {
      "application/javascript": [
       "\n",
       "        if (window._pyforest_update_imports_cell) { window._pyforest_update_imports_cell('import numpy as np\\nimport matplotlib.pyplot as plt'); }\n",
       "    "
      ],
      "text/plain": [
       "<IPython.core.display.Javascript object>"
      ]
     },
     "metadata": {},
     "output_type": "display_data"
    },
    {
     "data": {
      "application/javascript": [
       "\n",
       "        if (window._pyforest_update_imports_cell) { window._pyforest_update_imports_cell('import numpy as np\\nimport matplotlib.pyplot as plt'); }\n",
       "    "
      ],
      "text/plain": [
       "<IPython.core.display.Javascript object>"
      ]
     },
     "metadata": {},
     "output_type": "display_data"
    },
    {
     "data": {
      "application/javascript": [
       "\n",
       "        if (window._pyforest_update_imports_cell) { window._pyforest_update_imports_cell('import numpy as np\\nimport matplotlib.pyplot as plt'); }\n",
       "    "
      ],
      "text/plain": [
       "<IPython.core.display.Javascript object>"
      ]
     },
     "metadata": {},
     "output_type": "display_data"
    },
    {
     "data": {
      "application/javascript": [
       "\n",
       "        if (window._pyforest_update_imports_cell) { window._pyforest_update_imports_cell('import numpy as np\\nimport matplotlib.pyplot as plt'); }\n",
       "    "
      ],
      "text/plain": [
       "<IPython.core.display.Javascript object>"
      ]
     },
     "metadata": {},
     "output_type": "display_data"
    },
    {
     "data": {
      "application/javascript": [
       "\n",
       "        if (window._pyforest_update_imports_cell) { window._pyforest_update_imports_cell('import numpy as np\\nimport matplotlib.pyplot as plt'); }\n",
       "    "
      ],
      "text/plain": [
       "<IPython.core.display.Javascript object>"
      ]
     },
     "metadata": {},
     "output_type": "display_data"
    },
    {
     "data": {
      "application/javascript": [
       "\n",
       "        if (window._pyforest_update_imports_cell) { window._pyforest_update_imports_cell('import numpy as np\\nimport matplotlib.pyplot as plt'); }\n",
       "    "
      ],
      "text/plain": [
       "<IPython.core.display.Javascript object>"
      ]
     },
     "metadata": {},
     "output_type": "display_data"
    },
    {
     "name": "stdout",
     "output_type": "stream",
     "text": [
      "10-fold Cross Validation:  {'fit_time': array([0.0029664 , 0.00199318, 0.00199604, 0.00199437, 0.00199914,\n",
      "       0.00099683, 0.00099683, 0.00099802, 0.00099683, 0.00197244]), 'score_time': array([0.        , 0.00099683, 0.00099683, 0.0009973 , 0.        ,\n",
      "       0.        , 0.        , 0.        , 0.        , 0.        ]), 'test_score': array([0.65217391, 0.67391304, 0.63043478, 0.63043478, 0.67391304,\n",
      "       0.65217391, 0.69565217, 0.65217391, 0.67391304, 0.69565217])}\n",
      "\n",
      "Coefficients: \n",
      " [[ 3.03421517e-03  7.64060682e-03 -1.80074436e-02 -4.17024968e-03\n",
      "   1.40469712e-03 -3.75544933e-03  3.73167877e-05 -6.34191272e-04]]\n",
      "RMSE: 0.58\n",
      "Explained variance score: -0.53\n",
      "Accuracy score:  0.6590909090909091\n",
      "AUC score:  0.5749547101449275\n",
      "Confusion matrix: \n",
      " [[188  88]\n",
      " [ 17  15]]\n"
     ]
    },
    {
     "data": {
      "application/javascript": [
       "\n",
       "        if (window._pyforest_update_imports_cell) { window._pyforest_update_imports_cell('import numpy as np\\nimport matplotlib.pyplot as plt'); }\n",
       "    "
      ],
      "text/plain": [
       "<IPython.core.display.Javascript object>"
      ]
     },
     "metadata": {},
     "output_type": "display_data"
    },
    {
     "data": {
      "application/javascript": [
       "\n",
       "        if (window._pyforest_update_imports_cell) { window._pyforest_update_imports_cell('import numpy as np\\nimport matplotlib.pyplot as plt'); }\n",
       "    "
      ],
      "text/plain": [
       "<IPython.core.display.Javascript object>"
      ]
     },
     "metadata": {},
     "output_type": "display_data"
    },
    {
     "data": {
      "application/javascript": [
       "\n",
       "        if (window._pyforest_update_imports_cell) { window._pyforest_update_imports_cell('import numpy as np\\nimport matplotlib.pyplot as plt'); }\n",
       "    "
      ],
      "text/plain": [
       "<IPython.core.display.Javascript object>"
      ]
     },
     "metadata": {},
     "output_type": "display_data"
    },
    {
     "data": {
      "application/javascript": [
       "\n",
       "        if (window._pyforest_update_imports_cell) { window._pyforest_update_imports_cell('import numpy as np\\nimport matplotlib.pyplot as plt'); }\n",
       "    "
      ],
      "text/plain": [
       "<IPython.core.display.Javascript object>"
      ]
     },
     "metadata": {},
     "output_type": "display_data"
    },
    {
     "data": {
      "application/javascript": [
       "\n",
       "        if (window._pyforest_update_imports_cell) { window._pyforest_update_imports_cell('import numpy as np\\nimport matplotlib.pyplot as plt'); }\n",
       "    "
      ],
      "text/plain": [
       "<IPython.core.display.Javascript object>"
      ]
     },
     "metadata": {},
     "output_type": "display_data"
    },
    {
     "data": {
      "application/javascript": [
       "\n",
       "        if (window._pyforest_update_imports_cell) { window._pyforest_update_imports_cell('import numpy as np\\nimport matplotlib.pyplot as plt'); }\n",
       "    "
      ],
      "text/plain": [
       "<IPython.core.display.Javascript object>"
      ]
     },
     "metadata": {},
     "output_type": "display_data"
    },
    {
     "name": "stdout",
     "output_type": "stream",
     "text": [
      "10-fold Cross Validation:  {'fit_time': array([0.00095725, 0.00103664, 0.00099611, 0.00102329, 0.0009973 ,\n",
      "       0.00097561, 0.00102115, 0.00099444, 0.00099826, 0.00099754]), 'score_time': array([0.        , 0.00095892, 0.00099754, 0.        , 0.        ,\n",
      "       0.        , 0.00099444, 0.        , 0.00099611, 0.        ]), 'test_score': array([0.63043478, 0.67391304, 0.63043478, 0.63043478, 0.65217391,\n",
      "       0.63043478, 0.69565217, 0.67391304, 0.67391304, 0.65217391])}\n",
      "-- run num -- 2\n",
      "acc_base, acc_l1, acc_l2 0.6655844155844156 0.6623376623376623 0.6590909090909091\n",
      "\n",
      "accbase_all [0.66558442 0.6038961  0.66558442]\n"
     ]
    },
    {
     "data": {
      "application/javascript": [
       "\n",
       "        if (window._pyforest_update_imports_cell) { window._pyforest_update_imports_cell('import numpy as np\\nimport matplotlib.pyplot as plt'); }\n",
       "    "
      ],
      "text/plain": [
       "<IPython.core.display.Javascript object>"
      ]
     },
     "metadata": {},
     "output_type": "display_data"
    },
    {
     "name": "stdout",
     "output_type": "stream",
     "text": [
      "mean accbase_all 0.6450216450216452\n"
     ]
    },
    {
     "data": {
      "application/javascript": [
       "\n",
       "        if (window._pyforest_update_imports_cell) { window._pyforest_update_imports_cell('import numpy as np\\nimport matplotlib.pyplot as plt'); }\n",
       "    "
      ],
      "text/plain": [
       "<IPython.core.display.Javascript object>"
      ]
     },
     "metadata": {},
     "output_type": "display_data"
    },
    {
     "name": "stdout",
     "output_type": "stream",
     "text": [
      "std accbase_all 0.029080149009836367\n",
      "accl1_all [0.66883117 0.62012987 0.66233766]\n"
     ]
    },
    {
     "data": {
      "application/javascript": [
       "\n",
       "        if (window._pyforest_update_imports_cell) { window._pyforest_update_imports_cell('import numpy as np\\nimport matplotlib.pyplot as plt'); }\n",
       "    "
      ],
      "text/plain": [
       "<IPython.core.display.Javascript object>"
      ]
     },
     "metadata": {},
     "output_type": "display_data"
    },
    {
     "name": "stdout",
     "output_type": "stream",
     "text": [
      "mean accl1_all 0.6504329004329005\n"
     ]
    },
    {
     "data": {
      "application/javascript": [
       "\n",
       "        if (window._pyforest_update_imports_cell) { window._pyforest_update_imports_cell('import numpy as np\\nimport matplotlib.pyplot as plt'); }\n",
       "    "
      ],
      "text/plain": [
       "<IPython.core.display.Javascript object>"
      ]
     },
     "metadata": {},
     "output_type": "display_data"
    },
    {
     "name": "stdout",
     "output_type": "stream",
     "text": [
      "std accl1_all 0.021590841280584423\n"
     ]
    },
    {
     "data": {
      "text/plain": [
       "<Figure size 432x288 with 0 Axes>"
      ]
     },
     "metadata": {},
     "output_type": "display_data"
    }
   ],
   "source": [
    "def read_data(run_num):\n",
    "    data = np.genfromtxt(\"datasets/iris/pima-indians-diabetes.csv\", delimiter=\",\")\n",
    "    data_X = data[:, :8]   # all features 1-7\n",
    "    \n",
    "    # transformer = Normalizer().fit(data_X)\n",
    "    # data_X = transformer.transform(data_X)\n",
    "    \n",
    "    data_y = data[:, -1]   # target\n",
    "    \n",
    "    # percent_test = 0.4\n",
    "    # testsize = int(percent_test * data_X.shape[0])\n",
    "    # X_train = data_X[:-testsize]\n",
    "    # X_test = data_X[-testsize:]\n",
    "    # y_train = data_y[:-testsize]\n",
    "    # y_test = data_y[-testsize:]\n",
    "    \n",
    "    X_train, X_test, y_train, y_test = train_test_split(data_X, data_y, test_size=0.4, random_state=run_num)\n",
    "    \n",
    "    return X_train, X_test, y_train, y_test\n",
    "\n",
    "def scipy_linear_mod(X_train, X_test, y_train, y_test, type_model):\n",
    "    if type_model == 0:\n",
    "        log_reg = linear_model.LogisticRegression(tol=0.1, solver='saga')\n",
    "    elif type_model == 1:\n",
    "        log_reg = linear_model.LogisticRegression(tol=0.1, solver='saga', penalty='l1')\n",
    "    else:\n",
    "        log_reg = linear_model.LogisticRegression(tol=0.1, solver='saga', penalty='l2')\n",
    "        \n",
    "        # saga: Stochastic Average Gradient descent \n",
    "        # tol: Tolerance for stopping criteria\n",
    "        \n",
    "    # Train the model\n",
    "    log_reg.fit(X_train, y_train)\n",
    "    \n",
    "    # Make prediction\n",
    "    y_pred = log_reg.predict(X_test)\n",
    "    #print(\"y_pred: \\n\", y_pred)\n",
    "    \n",
    "    print(\"\\nCoefficients: \\n\", log_reg.coef_)\n",
    "    print(\"RMSE: %.2f\" % mean_squared_error(y_pred, y_test, squared=False))\n",
    "    print(\"Explained variance score: %.2f\" % r2_score(y_test, y_pred))\n",
    "    \n",
    "    acc = accuracy_score(y_pred, y_test)\n",
    "    print(\"Accuracy score: \", acc)\n",
    "    \n",
    "    auc = roc_auc_score(y_pred, y_test, average=None)\n",
    "    print(\"AUC score: \", auc)\n",
    "    \n",
    "    corr_mat = confusion_matrix(y_pred, y_test)\n",
    "    print(\"Confusion matrix: \\n\", corr_mat)\n",
    "    \n",
    "    #Rather than passing the class predictions (y_pred), to pass the probabilities\n",
    "    y_pred_ = log_reg.predict_proba(X_test)[:, -1]\n",
    "    \n",
    "    # Otherwise\n",
    "    #y_pred_ = log_reg.decision_function(X_test)\n",
    "    \n",
    "    lr_fpr, lr_tpr, _ = roc_curve(y_test, y_pred_)\n",
    "    \n",
    "    # Plot the ROC curve for the method 1\n",
    "    plt.plot(lr_fpr, lr_tpr, marker='.', label='Logistic-model')\n",
    "    plt.xlabel('False Positive Rate')\n",
    "    plt.ylabel('True Positive Rate')\n",
    "    plt.legend()\n",
    "    plt.savefig('figures/'+str(type_model)+'plot.png')\n",
    "    plt.clf()\n",
    "    \n",
    "    # Cross validation\n",
    "    cv_results = cross_validate(log_reg, X_train, y_train, cv=10)\n",
    "    print(\"10-fold Cross Validation: \", cv_results)\n",
    "    \n",
    "    return auc, acc\n",
    "\n",
    "def main():\n",
    "    max_expruns = 3\n",
    "    accbase_all = np.zeros(max_expruns)\n",
    "    accl1_all = np.zeros(max_expruns)\n",
    "    accl2_all = np.zeros(max_expruns)\n",
    "    \n",
    "    for run_num in range(max_expruns):\n",
    "        X_train, X_test, y_train, y_test = read_data(run_num)\n",
    "        auc_base, acc_base = scipy_linear_mod(X_train, X_test, y_train, y_test, 0)\n",
    "        auc_l1, acc_l1 = scipy_linear_mod(X_train, X_test, y_train, y_test, 1)\n",
    "        auc_l2, acc_l2 = scipy_linear_mod(X_train, X_test, y_train, y_test, 2)\n",
    "        \n",
    "        accbase_all[run_num] = acc_base\n",
    "        accl1_all[run_num] = acc_l1\n",
    "        accl2_all[run_num] = acc_l2\n",
    "        \n",
    "        print('-- run num --', run_num)\n",
    "        print('acc_base, acc_l1, acc_l2', acc_base, acc_l1, acc_l2)\n",
    "    \n",
    "    print('\\naccbase_all', accbase_all)\n",
    "    print('mean accbase_all', np.mean(accbase_all))\n",
    "    print('std accbase_all', np.std(accbase_all))\n",
    "    \n",
    "    print('accl1_all', accl1_all)\n",
    "    print('mean accl1_all', np.mean(accl1_all))\n",
    "    print('std accl1_all', np.std(accl1_all))\n",
    "    \n",
    "\n",
    "if __name__ == '__main__':\n",
    "    main()"
   ]
  },
  {
   "cell_type": "code",
   "execution_count": null,
   "id": "d72b0b1b",
   "metadata": {},
   "outputs": [],
   "source": []
  }
 ],
 "metadata": {
  "kernelspec": {
   "display_name": "Python 3",
   "language": "python",
   "name": "python3"
  },
  "language_info": {
   "codemirror_mode": {
    "name": "ipython",
    "version": 3
   },
   "file_extension": ".py",
   "mimetype": "text/x-python",
   "name": "python",
   "nbconvert_exporter": "python",
   "pygments_lexer": "ipython3",
   "version": "3.8.10"
  }
 },
 "nbformat": 4,
 "nbformat_minor": 5
}
