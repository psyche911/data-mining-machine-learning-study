{
 "cells": [
  {
   "cell_type": "code",
   "execution_count": null,
   "id": "618f67cd",
   "metadata": {},
   "outputs": [],
   "source": [
    "import pyforest\n",
    "\n",
    "def import_data():\n",
    "    data = pd.read_csv(\"datasets/iris/iris.data\", sep=\",\", header=None)\n",
    "    data = data.values\n",
    "    '''df.values returns a numpy array with the underlying data of the DataFrame, without any index or column names\n",
    "    '''\n",
    "    data[:,4] = np.where(data[:,4]=='Iris-setosa', 1, np.where(data[:,4]=='Iris-versicolor', 2, 3))\n",
    "    '''[:, 4] is a slice of that array, returning all rows of the 5th column\n",
    "    '''\n",
    "    return data\n",
    "\n",
    "def mean_std_col(data):\n",
    "    mean = data.mean(0)   # 0:= column-wise\n",
    "    sd = data.std(0)\n",
    "    return mean, sd\n",
    "\n",
    "def class_dist(data, num_classes):\n",
    "    for i in range(num_classes):\n",
    "        placeholder[i] = np.count_nonzero(data == i+1)\n",
    "        \n",
    "def hist_plot(name, data):\n",
    "    plt.figure()\n",
    "    plt.hist(data)\n",
    "    plt.show()\n",
    "    \n",
    "def data_split_random(data_X, data_y, portion):\n",
    "    order = np.random.permutation(len(data_X))   # 1\n",
    "    index = int(portion * len(data_X))   # 2\n",
    "    X_train = data_X[order[:index]]\n",
    "    X_test = data_X[order[index:]]\n",
    "    y_train = data_y[order[:index]]\n",
    "    y_test = data_y[order[index:]]\n",
    "    return X_train, X_test, y_train, y_test\n",
    "\n",
    "def data_split_nonrandom(data_X, data_y, portion):\n",
    "    index = int(portion * len(data_X))\n",
    "    X_train = data_X[:index]\n",
    "    X_test = data_X[index:]\n",
    "    y_train = data_y[:index]\n",
    "    y_test = data_y[index:]\n",
    "    return X_train, X_test, y_train, y_test\n",
    "\n",
    "def feature_subset(feature, X_train):\n",
    "    X_train_sub = X_train[:, feature]\n",
    "    return X_train_sub\n",
    "\n",
    "def binary_class(data):\n",
    "    subset = data[data[:, 4] < 3]\n",
    "    subset_X = subset[:, :4].astype(float)\n",
    "    '''[:, :4] is a slice of array, returning all rows and every column except the 5th\n",
    "    '''\n",
    "    subset_y = subset[:, 4]\n",
    "    sub_X_train, sub_X_test, sub_y_train, sub_y_test = data_split_random(subset_X, subset_y, 0.6)\n",
    "    sub_train = np.hstack((sub_X_train, sub_y_train[:, np.newaxis]))\n",
    "    '''\n",
    "    np.hstack to add a column\n",
    "    numpy.newaxis to increase the dimension of the existing array - convert array to vector/matrix\n",
    "    '''\n",
    "    sub_test = np.hstack((sub_X_test, sub_y_test[:, np.newaxis]))\n",
    "    np.savetxt('datasets/iris/binary_iristrain.txt', sub_train)\n",
    "    np.savetxt('datasets/iris/binary_iristest.txt', sub_test)\n",
    "    return sub_train, sub_test\n",
    "\n",
    "def minmaxnormal(data_X):\n",
    "    min_X = data_X.min(0)   # column mean\n",
    "    max_X = data_X.max(0)\n",
    "    data_scaled = (data_X - min_X) / (max_X - min_X)\n",
    "    return data_scaled\n",
    "\n",
    "def main():\n",
    "    \n",
    "    ### Q1 convert the class labels to 1, 2, and 3\n",
    "    \n",
    "    iris = import_data()\n",
    "    iris_X = iris[:, :4].astype(float)\n",
    "    iris_y = iris[:, 4]\n",
    "    \n",
    "    ### Q2 report mean and standard deviation for each column in the features (4 features)\n",
    "    \n",
    "    mean_X, sd_X = mean_sd_col(iris_X)\n",
    "    print('Column means are ', mean_X)\n",
    "    print('Column standard deviations are ', sd_X)\n",
    "    \n",
    "    ### Q3 report the class distribution (i.e. number of instances for each class)\n",
    "    \n",
    "    num_classes = 3\n",
    "    placeholder = [None] * num_classes   # initiate an empty list with 3 elements, [None, None, None]\n",
    "        \n",
    "    class_dist(iris_y, num_classes)\n",
    "    \n",
    "    print(f\"{placeholder[0]} Iris_setosa\")\n",
    "    print(f\"{placeholder[1]} Iris_versicolor\")\n",
    "    print(f\"{placeholder[2]} Iris_virginica\")\n",
    "    \n",
    "    ### Q4 show histogram for each feature\n",
    "    \n",
    "    for i in range(len(iris_X[0])):   # [0] := 1st row\n",
    "        name = 'figure' + str(i)\n",
    "        data = iris_X[:, i]\n",
    "        hist_plot(name, data)\n",
    "        \n",
    "    ### Q5 split data into a train and test\n",
    "    \n",
    "    protion = 0.6\n",
    "    \n",
    "    # i) random\n",
    "    r_X_train, r_X_test, r_y_train, r_y_test = data_split_random(iris_X, iris_y, portion)\n",
    "    \n",
    "    # ii) deterministic\n",
    "    d_X_train, d_X_test, d_y_train, d_y_test = data_split_nonrandom(iris_X, iris_y, portion)\n",
    "    \n",
    "    ### Q6 repeat Q2-Q5 with random set\n",
    "    \n",
    "    mean_train, sd_train = mean_sd_col(r_X_train)\n",
    "    print(\"Column means for train: \", mean_train)\n",
    "    print(\"Xolumn standard deviations for train: \", sd_train)\n",
    "    \n",
    "    mean_test, sd_test = mean_sd_col(r_X_test)\n",
    "    print(\"Column means for test: \", mean_test)\n",
    "    print(\"Column standard deviations for test: \", sd_test)\n",
    "    \n",
    "    class_dist(r_y_train, num_classes)\n",
    "    \n",
    "    print(f\"There are {placeholder[0]} Iris_setosa samples in the Train set\")\n",
    "    print(f\"There are {placeholder[1]} Iris_versicolor samples in the Train set\")\n",
    "    print(f\"There are {placeholder[2]} Iris_virginica samples in the Train set\")\n",
    "    \n",
    "    class_dist(r_y_test, num_classes)\n",
    "    \n",
    "    print(f\"There are {placeholder[0]} Iris_setosa samples in the Test set\")\n",
    "    print(f\"There are {placeholder[1]} Iris_versicolor samples in the Test set\")\n",
    "    print(f\"There are {placeholder[2]} Iris_virginica samples in the Test set\")\n",
    "    \n",
    "    for i in range(len(r_x_train[0])):\n",
    "        name = 'train figure'+str(i)\n",
    "        data = r_x_train[:,i]\n",
    "        hist_plot(name,data)\n",
    "        \n",
    "    for i in range(len(r_x_test[0])):\n",
    "        name = 'test figure'+str(i)\n",
    "        data = r_x_test[:,i]\n",
    "        hist_plot(name,data)\n",
    "    \n",
    "    ### Q7 create a dataset with any one of the 4 features\n",
    "    \n",
    "    subset_1 = feature_subset(1, r_x_train)[:,np.newaxis]\n",
    "    \n",
    "    '''Q8\n",
    "    reate a subset of the dataset where you consider only instances that feature class 1 or 2,\n",
    "    treat this problem as a binary classification problem later\n",
    "    '''\n",
    "    sub_train, sub_test = binary_class(iris)\n",
    "    sub_x_train = sub_train[:,:4].astype(float)\n",
    "    sub_y_train = sub_train[:, 4]\n",
    "    sub_x_test = sub_test[:,:4].astype(float)\n",
    "    sub_y_test = sub_test[:, 4]    \n",
    "    \n",
    "    mean_train, sd_train = mean_sd_col(sub_x_train)\n",
    "    print('Column Means for train are ', mean_train)\n",
    "    print('Column Standard Deviations for train are ', sd_train)\n",
    "    \n",
    "    mean_test, sd_test = mean_sd_col(sub_x_test)\n",
    "    print('Column Means for test are ', mean_test)\n",
    "    print('Column Standard Deviations for test are ', sd_test)\n",
    "    \n",
    "    class_dist(sub_y_train, num_classes)\n",
    "    \n",
    "    print(f\"There are {placeholder[0]} Iris_setosa samples in the Train set\")\n",
    "    print(f\"There are {placeholder[1]} Iris_versicolor samples in the Train set\")\n",
    "    print(f\"There are {placeholder[2]} Iris_virginica samples in the Train set\")\n",
    "    \n",
    "    class_dist(sub_y_test, num_classes)\n",
    "    \n",
    "    print(f\"There are {placeholder[0]} Iris_setosa samples in the Test set\")\n",
    "    print(f\"There are {placeholder[1]} Iris_versicolor samples in the Test set\")\n",
    "    print(f\"There are {placeholder[2]} Iris_virginica samples in the Test set\")\n",
    "    \n",
    "    for i in range(len(sub_x_train[0])):\n",
    "        name = 'train sub figure'+str(i)\n",
    "        data = sub_x_train[:,i]\n",
    "        hist_plot(name,data)\n",
    "        \n",
    "    for i in range(len(sub_x_test[0])):\n",
    "        name = 'test sub figure'+str(i)\n",
    "        data = sub_x_test[:,i]\n",
    "        hist_plot(name,data)\n",
    "        \n",
    "    ### Q9 normalise the input features between [0 and 1]\n",
    "    \n",
    "    normal_x = minmaxnormal(iris_x)\n",
    "    \n",
    "if __name__ == '__main__':\n",
    "    main()\n",
    "    "
   ]
  },
  {
   "cell_type": "code",
   "execution_count": 8,
   "id": "3d7400a5",
   "metadata": {},
   "outputs": [
    {
     "data": {
      "application/javascript": [
       "\n",
       "        if (window._pyforest_update_imports_cell) { window._pyforest_update_imports_cell('import numpy as np'); }\n",
       "    "
      ],
      "text/plain": [
       "<IPython.core.display.Javascript object>"
      ]
     },
     "metadata": {},
     "output_type": "display_data"
    },
    {
     "data": {
      "text/plain": [
       "array([ 3, 17,  7, 10,  5,  0,  2,  1,  6, 18, 19, 15, 13, 12, 16,  8,  9,\n",
       "       14, 11,  4])"
      ]
     },
     "execution_count": 8,
     "metadata": {},
     "output_type": "execute_result"
    }
   ],
   "source": [
    "# 1\n",
    "order = np.random.permutation(20)\n",
    "order"
   ]
  },
  {
   "cell_type": "code",
   "execution_count": 3,
   "id": "75d8709b",
   "metadata": {},
   "outputs": [
    {
     "data": {
      "text/plain": [
       "8"
      ]
     },
     "execution_count": 3,
     "metadata": {},
     "output_type": "execute_result"
    }
   ],
   "source": [
    "# 2\n",
    "int(0.4 * 20)"
   ]
  },
  {
   "cell_type": "code",
   "execution_count": 9,
   "id": "a8f11aba",
   "metadata": {},
   "outputs": [
    {
     "data": {
      "text/plain": [
       "array([ 3, 17,  7, 10,  5,  0,  2,  1])"
      ]
     },
     "execution_count": 9,
     "metadata": {},
     "output_type": "execute_result"
    }
   ],
   "source": [
    "order[:8]"
   ]
  },
  {
   "cell_type": "code",
   "execution_count": 15,
   "id": "2e4222dd",
   "metadata": {},
   "outputs": [
    {
     "data": {
      "text/plain": [
       "[None, None, None]"
      ]
     },
     "execution_count": 15,
     "metadata": {},
     "output_type": "execute_result"
    }
   ],
   "source": [
    "[None] * 3"
   ]
  },
  {
   "cell_type": "code",
   "execution_count": 11,
   "id": "46d30ceb",
   "metadata": {},
   "outputs": [
    {
     "data": {
      "application/javascript": [
       "\n",
       "        if (window._pyforest_update_imports_cell) { window._pyforest_update_imports_cell('import numpy as np\\nimport pandas as pd'); }\n",
       "    "
      ],
      "text/plain": [
       "<IPython.core.display.Javascript object>"
      ]
     },
     "metadata": {},
     "output_type": "display_data"
    },
    {
     "data": {
      "text/html": [
       "<div>\n",
       "<style scoped>\n",
       "    .dataframe tbody tr th:only-of-type {\n",
       "        vertical-align: middle;\n",
       "    }\n",
       "\n",
       "    .dataframe tbody tr th {\n",
       "        vertical-align: top;\n",
       "    }\n",
       "\n",
       "    .dataframe thead th {\n",
       "        text-align: right;\n",
       "    }\n",
       "</style>\n",
       "<table border=\"1\" class=\"dataframe\">\n",
       "  <thead>\n",
       "    <tr style=\"text-align: right;\">\n",
       "      <th></th>\n",
       "      <th>0</th>\n",
       "      <th>1</th>\n",
       "      <th>2</th>\n",
       "      <th>3</th>\n",
       "      <th>4</th>\n",
       "    </tr>\n",
       "  </thead>\n",
       "  <tbody>\n",
       "    <tr>\n",
       "      <th>0</th>\n",
       "      <td>5.1</td>\n",
       "      <td>3.5</td>\n",
       "      <td>1.4</td>\n",
       "      <td>0.2</td>\n",
       "      <td>Iris-setosa</td>\n",
       "    </tr>\n",
       "    <tr>\n",
       "      <th>1</th>\n",
       "      <td>4.9</td>\n",
       "      <td>3.0</td>\n",
       "      <td>1.4</td>\n",
       "      <td>0.2</td>\n",
       "      <td>Iris-setosa</td>\n",
       "    </tr>\n",
       "    <tr>\n",
       "      <th>2</th>\n",
       "      <td>4.7</td>\n",
       "      <td>3.2</td>\n",
       "      <td>1.3</td>\n",
       "      <td>0.2</td>\n",
       "      <td>Iris-setosa</td>\n",
       "    </tr>\n",
       "    <tr>\n",
       "      <th>3</th>\n",
       "      <td>4.6</td>\n",
       "      <td>3.1</td>\n",
       "      <td>1.5</td>\n",
       "      <td>0.2</td>\n",
       "      <td>Iris-setosa</td>\n",
       "    </tr>\n",
       "    <tr>\n",
       "      <th>4</th>\n",
       "      <td>5.0</td>\n",
       "      <td>3.6</td>\n",
       "      <td>1.4</td>\n",
       "      <td>0.2</td>\n",
       "      <td>Iris-setosa</td>\n",
       "    </tr>\n",
       "  </tbody>\n",
       "</table>\n",
       "</div>"
      ],
      "text/plain": [
       "     0    1    2    3            4\n",
       "0  5.1  3.5  1.4  0.2  Iris-setosa\n",
       "1  4.9  3.0  1.4  0.2  Iris-setosa\n",
       "2  4.7  3.2  1.3  0.2  Iris-setosa\n",
       "3  4.6  3.1  1.5  0.2  Iris-setosa\n",
       "4  5.0  3.6  1.4  0.2  Iris-setosa"
      ]
     },
     "execution_count": 11,
     "metadata": {},
     "output_type": "execute_result"
    }
   ],
   "source": [
    "data = pd.read_csv(\"datasets/iris/iris.data\", sep=\",\", header=None)\n",
    "data.head()"
   ]
  },
  {
   "cell_type": "code",
   "execution_count": 19,
   "id": "7fa70b60",
   "metadata": {},
   "outputs": [
    {
     "data": {
      "text/plain": [
       "array([5.1, 3.5, 1.4, 0.2, 'Iris-setosa'], dtype=object)"
      ]
     },
     "execution_count": 19,
     "metadata": {},
     "output_type": "execute_result"
    }
   ],
   "source": [
    "data[0]"
   ]
  },
  {
   "cell_type": "code",
   "execution_count": null,
   "id": "d05cbd53",
   "metadata": {},
   "outputs": [],
   "source": []
  }
 ],
 "metadata": {
  "kernelspec": {
   "display_name": "Python 3 (ipykernel)",
   "language": "python",
   "name": "python3"
  },
  "language_info": {
   "codemirror_mode": {
    "name": "ipython",
    "version": 3
   },
   "file_extension": ".py",
   "mimetype": "text/x-python",
   "name": "python",
   "nbconvert_exporter": "python",
   "pygments_lexer": "ipython3",
   "version": "3.8.8"
  }
 },
 "nbformat": 4,
 "nbformat_minor": 5
}
